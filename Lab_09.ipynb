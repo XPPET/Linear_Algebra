{
 "cells": [
  {
   "cell_type": "markdown",
   "metadata": {},
   "source": [
    "# Εργαστήριο 9ο: Γραμμοπράξεις & Ορίζουσες"
   ]
  },
  {
   "cell_type": "code",
   "execution_count": null,
   "metadata": {},
   "outputs": [],
   "source": [
    "#Επίλυση του συστήματος εξισώσεων με τη συνάρτηση solve.\n",
    "var(\"m, x, y, z\")\n",
    "solve([m*x + y + z == 0, x + m*y + z == 0, x + y + m*z == 0], [x, y, z])"
   ]
  },
  {
   "cell_type": "markdown",
   "metadata": {},
   "source": [
    "Παρατηρήστε πως η `solve` δεν πραγματοποίησε διερεύνηση για όλες τις δυνατές περιπτώσεις, αλλά μας υπέδειξε τη λύση μόνο για όταν $m \\neq 1$ και $m \\neq -2$. Για να καλύψουμε και τις υπόλοιπες περιπτώσεις, πρέπει να θέσουμε την παράμετρο $m$ ίση με 1 και -2 αντίστοιχα."
   ]
  },
  {
   "cell_type": "code",
   "execution_count": null,
   "metadata": {},
   "outputs": [],
   "source": [
    "var(\"m, x, y, z\")\n",
    "m = -2\n",
    "solve([m*x + y + z == 0, x + m*y + z == 0, x + y + m*z == 0], [x, y, z])"
   ]
  },
  {
   "cell_type": "markdown",
   "metadata": {},
   "source": [
    "<b>Σημείωση:</b> Η μέθοδος `substitute` της κλάσης `matrix` <b>δεν</b> αντικαθιστά την/τις τιμή/τιμές που της προσδιορίζουμε πάνω στον ίδιο τον πίνακα αλλά επιστρέφει ένα αντίγραφο του πίνακα όπου έχουν γίνει οι αντικαταστάσεις."
   ]
  },
  {
   "cell_type": "code",
   "execution_count": null,
   "metadata": {},
   "outputs": [],
   "source": [
    "# Παράδειγμα\n",
    "var('k')\n",
    "A = matrix(SR, 2, 2, [k+1, 2*k, 0, 1])\n",
    "print(\"Ο πίνακας A είναι:\")\n",
    "show(A)\n",
    "\n",
    "print(\"Ο πίνακας A θέτοντας k=0, είναι:\")\n",
    "A1 = A.substitute(k==0)\n",
    "show(A1)\n",
    "\n",
    "print(\"Ο πίνακας A είναι ακόμη ο:\")\n",
    "show(A)"
   ]
  },
  {
   "cell_type": "markdown",
   "metadata": {},
   "source": [
    "<b>Παράδειγμα</b>: Να λυθεί το σύστημα\n",
    "\n",
    "$$\\left\\{ \\begin{array}{ccccc}\n",
    "             x  &  +y  &   +w & = & 1  \\\\\n",
    "             x  & +2y  &  +4w & = & a \\\\\n",
    "             x  & +4y  & +10w & = & a^2\n",
    "          \\end{array} \\right. , \\quad a \\in \\mathbb{R}$$"
   ]
  },
  {
   "cell_type": "markdown",
   "metadata": {},
   "source": [
    "Έχουμε ένα $3 \\times 3$ μη-ομογενές γραμμικό αλγεβρικό σύστημα. Ας προσπαθήσουμε αρχικά να το λύσουμε με στοιχειώδεις γραμμοπράξεις. Ο επαυξημένος πίνακας του συστήματος είναι:"
   ]
  },
  {
   "cell_type": "markdown",
   "metadata": {},
   "source": [
    "$$\n",
    "A|b = \\left[\n",
    "        \\begin{array}{ccc|c}\n",
    "            1 &  1  & 1  & 1         \\\\\n",
    "            1 &  2  & 4  & \\alpha    \\\\\n",
    "            1 &  4  & 10 & \\alpha^2\n",
    "        \\end{array} \\right] \\thicksim\n",
    "      \\left[\n",
    "        \\begin{array}{ccc|c}\n",
    "            1 &  1  & 1  & 1           \\\\\n",
    "            0 &  1  & 3  & \\alpha-1    \\\\\n",
    "            0 &  3  & 9  & \\alpha^2-1\n",
    "        \\end{array} \\right] \\thicksim\n",
    "      \\left[\n",
    "        \\begin{array}{ccc|c}\n",
    "            1 &  1  & 1  & 1           \\\\\n",
    "            0 &  1  & 3  & \\alpha-1    \\\\\n",
    "            0 &  0  & 0 & \\alpha^2-3\\alpha+2\n",
    "        \\end{array} \\right]\n",
    "$$\n",
    "\n",
    "Διακρίνουμε τις περιπτώσεις:\n",
    "<ul>\n",
    "    <li>Αν $\\alpha^2 - 3\\alpha + 2 \\neq 0 \\Leftrightarrow \\alpha \\neq 1 \\,\\, \\& \\,\\, \\alpha \\neq 2$, τότε το σύστημα είναι αδύνατο.</li>\n",
    "    <li>Αν $\\alpha = 1$, τότε ο τελευταίος πίνακας γράφεται:\n",
    "        $$\n",
    "            \\left[\n",
    "                \\begin{array}{ccc|c}\n",
    "                    1 &  1  & 1  & 1    \\\\\n",
    "                    0 &  1  & 3  & 0    \\\\\n",
    "                    0 &  0  & 0  & 0\n",
    "                \\end{array} \\right] \\thicksim\n",
    "            \\left[\n",
    "                \\begin{array}{ccc|c}\n",
    "                    1 &  0  & -2  & 1    \\\\\n",
    "                    0 &  1  & 3   & 0    \\\\\n",
    "                    0 &  0  & 0   & 0\n",
    "                \\end{array} \\right]\n",
    "        $$\n",
    "        και άρα για $\\alpha = 1$, το σύστημα έχει άπειρες λύσεις της μορφής:\n",
    "        $$ (1+2\\omega, -3\\omega, \\omega), \\qquad \\omega \\in \\mathbb{R} $$\n",
    "    </li>\n",
    "    <li>Αν $\\alpha = 2$, τότε ο τελευταίος πίνακας γράφεται:\n",
    "        $$\n",
    "            \\left[\n",
    "                \\begin{array}{ccc|c}\n",
    "                    1 &  1  & 1  & 1    \\\\\n",
    "                    0 &  1  & 3  & 0    \\\\\n",
    "                    0 &  0  & 0  & 0\n",
    "                \\end{array} \\right] \\thicksim\n",
    "            \\left[\n",
    "                \\begin{array}{ccc|c}\n",
    "                    1 &  0  & -2  & 0    \\\\\n",
    "                    0 &  1  & 3   & 1    \\\\\n",
    "                    0 &  0  & 0   & 0\n",
    "                \\end{array} \\right]\n",
    "        $$\n",
    "        και άρα για $\\alpha = 2$, το σύστημα έχει άπειρες λύσεις της μορφής:\n",
    "        $$ (2\\omega, 1-3\\omega, \\omega), \\qquad \\omega \\in \\mathbb{R} $$\n",
    "    </li>\n",
    "</ul>"
   ]
  },
  {
   "cell_type": "markdown",
   "metadata": {},
   "source": [
    "Τώρα, ας δοκιμάσουμε με την `rref`:"
   ]
  },
  {
   "cell_type": "code",
   "execution_count": null,
   "metadata": {},
   "outputs": [],
   "source": [
    "var('a')\n",
    "A = matrix(SR, 3, 3, [1, 1, 1, 1, 2, 4, 1, 4, 10])   # Ο A πρέπει να δηλωθεί ως SR γιατί διαφορετικά προκύπτει σφάλμα.\n",
    "b = vector(SR, [1, a, a^2])\n",
    "Ab = A.augment(b, subdivide=True)\n",
    "show(Ab)"
   ]
  },
  {
   "cell_type": "markdown",
   "metadata": {},
   "source": [
    "Η ορίζουσά του είναι:"
   ]
  },
  {
   "cell_type": "code",
   "execution_count": null,
   "metadata": {},
   "outputs": [],
   "source": [
    "D = det(A); D"
   ]
  },
  {
   "cell_type": "markdown",
   "metadata": {},
   "source": [
    "και άρα το σύστημα είναι αδύνατο ή αόριστο."
   ]
  },
  {
   "cell_type": "markdown",
   "metadata": {},
   "source": [
    "Η ανηγμένη κλιμακωτή του μορφή είναι:"
   ]
  },
  {
   "cell_type": "code",
   "execution_count": null,
   "metadata": {},
   "outputs": [],
   "source": [
    "show(Ab.rref())"
   ]
  },
  {
   "cell_type": "markdown",
   "metadata": {},
   "source": [
    "απ' όπου είναι εμφανές πως το σύστημα είναι αδύνατο! Παρατηρώντας τον πίνακα, βλέπουμε πως δε συμπίπτει με κανέναν από αυτούς που συναντήσαμε παραπάνω (για κανένα $\\alpha$). Πώς λοιπόν προέκυψε; Η απάντηση βρίσκεται στο documentation της μεθόδου `rref`."
   ]
  },
  {
   "cell_type": "code",
   "execution_count": null,
   "metadata": {},
   "outputs": [],
   "source": [
    "?Ab.rref"
   ]
  },
  {
   "cell_type": "markdown",
   "metadata": {},
   "source": [
    "Προκειμένου το SageMath να φέρει τον πίνακα στην ανηγμένη κλιμακωτή του μορφή, επιχειρεί να διαιρέσει την τρίτη γραμμή με το $\\alpha^2 -3\\alpha + 2$, υποθέτοντας ότι αυτό δεν είναι μηδέν. Ο πίνακας τότε θα είναι ο:\n",
    "\n",
    "$$\n",
    "\\left[\n",
    "        \\begin{array}{ccc|c}\n",
    "            1 &  1  & 1  & 1           \\\\\n",
    "            0 &  1  & 3  & \\alpha-1    \\\\\n",
    "            0 &  0  & 0  & 1\n",
    "        \\end{array}\n",
    "\\right]\n",
    "$$\n",
    "\n",
    "Εάν τώρα αφαιρέσουμε $\\alpha-1$ φορές την τρίτη γραμμή από τη δεύτερη και στη συνέχεια τη δεύτερη γραμμή από την πρώτη, προκύπτει ο πίνακας:\n",
    "\n",
    "$$\n",
    "\\left[\n",
    "        \\begin{array}{ccc|c}\n",
    "            1 &  0  & -2  & 0           \\\\\n",
    "            0 &  1  & 3  & 0    \\\\\n",
    "            0 &  0  & 0  & 1\n",
    "        \\end{array}\n",
    "\\right]\n",
    "$$"
   ]
  },
  {
   "cell_type": "markdown",
   "metadata": {},
   "source": [
    "<b>Επομένως, όταν θέλουμε να βρούμε την κλιμακωτή ή ανηγμένη κλιμακωτή μορφή ενός συμβολικού πίνακα, θα πρέπει να αποφεύγουμε τη χρήση των μεθόδων `rref`, `echelon_form` και `echelonize` καθώς είναι πολύ πιθανό να οδηγηθούμε σε λανθασμένα συμπεράσματα! Αντ' αυτού, εκτελούμε τις γραμμο-πράξεις μία-μία και κάνοντας τις κατάλληλες υποθέσεις όπου χρειάζεται!</b>"
   ]
  },
  {
   "cell_type": "markdown",
   "metadata": {},
   "source": [
    "Σχετικός σύνδεσμος: https://ask.sagemath.org/question/8386/row-echelon-form-of-a-matrix-containing-symbolic-expresssions/"
   ]
  },
  {
   "cell_type": "markdown",
   "metadata": {},
   "source": [
    "Επομένως, ο ορθός τρόπος λύσης με τη βοήθεια του SageMath είναι:"
   ]
  },
  {
   "cell_type": "code",
   "execution_count": null,
   "metadata": {},
   "outputs": [],
   "source": [
    "var('a')\n",
    "A = matrix(SR, 3, 3, [1, 1, 1, 1, 2, 4, 1, 4, 10])   # Ο A πρέπει να δηλωθεί ως SR γιατί διαφορετικά προκύπτει σφάλμα.\n",
    "b = vector(SR, [1, a, a^2])\n",
    "Ab = A.augment(b, subdivide=True)\n",
    "show(Ab)\n",
    "\n",
    "Ab.add_multiple_of_row(1, 0, -1)\n",
    "Ab.add_multiple_of_row(2, 0, -1)\n",
    "show(Ab)\n",
    "\n",
    "Ab.add_multiple_of_row(2, 1, -3)\n",
    "show(Ab)"
   ]
  },
  {
   "cell_type": "code",
   "execution_count": null,
   "metadata": {},
   "outputs": [],
   "source": [
    "var('a')\n",
    "solve(a^2-3*a+2==0, a)"
   ]
  },
  {
   "cell_type": "markdown",
   "metadata": {},
   "source": [
    "<ul>\n",
    "    <li>Αν $a \\neq 1 \\,\\,\\&\\,\\, a \\neq 2$, τότε to σύστημα είναι αδύνατο.</li>\n",
    "</ul>"
   ]
  },
  {
   "cell_type": "markdown",
   "metadata": {},
   "source": [
    "<ul>\n",
    "    <li>Αν $a = 1$, τότε:</li>\n",
    "</ul>"
   ]
  },
  {
   "cell_type": "code",
   "execution_count": null,
   "metadata": {},
   "outputs": [],
   "source": [
    "show(Ab.substitute(a==1))"
   ]
  },
  {
   "cell_type": "markdown",
   "metadata": {},
   "source": [
    "Το σύστημα έχει άπειρες λύσεις της μορφής:\n",
    "$$ (1+2\\omega, -3\\omega, \\omega), \\quad \\omega \\in \\mathbb{R} $$"
   ]
  },
  {
   "cell_type": "markdown",
   "metadata": {},
   "source": [
    "<ul>\n",
    "    <li>Αν $a = 2$, τότε:</li>\n",
    "</ul>"
   ]
  },
  {
   "cell_type": "code",
   "execution_count": null,
   "metadata": {},
   "outputs": [],
   "source": [
    "show(Ab.substitute(a==2))"
   ]
  },
  {
   "cell_type": "markdown",
   "metadata": {},
   "source": [
    "Το σύστημα έχει άπειρες λύσεις της μορφής:\n",
    "$$ (2\\omega, 1-3\\omega, \\omega), \\quad \\omega \\in \\mathbb{R} $$"
   ]
  },
  {
   "cell_type": "markdown",
   "metadata": {},
   "source": [
    "## Εύρεση του αντίστροφου πίνακα"
   ]
  },
  {
   "cell_type": "markdown",
   "metadata": {},
   "source": [
    "<b>Ορισμός:</b> Ένας $n \\times n$ πίνακας $A$ καλείται αντιστρέψιμος, εάν υπάρχει ένας $n \\times n$ πίνακας $B$ τέτοιος ώστε:\n",
    "\n",
    "$$ AB = I_n = BA $$\n",
    "\n",
    "ο οποίος καλείται αντίστροφος (inverse) του $A$ και συμβολίζεται με $A^{-1}$."
   ]
  },
  {
   "cell_type": "markdown",
   "metadata": {},
   "source": [
    "### Προσαρτημένος πίνακας"
   ]
  },
  {
   "cell_type": "markdown",
   "metadata": {},
   "source": [
    "Ο προσαρτημένος πίνακας ενός δεδομένου πίνακα μπορεί να βρεθεί με τη μέθοδο `adjoint` της κλάσης `matrix`."
   ]
  },
  {
   "cell_type": "code",
   "execution_count": null,
   "metadata": {},
   "outputs": [],
   "source": [
    "A = matrix(ZZ, 3, 3, [1, 2, 1, 1, -1, 1, 1, 1, 0])\n",
    "print(\"Ο προσαρτημένος του πίνακα A είναι:\")\n",
    "show(A.adjugate())   # A.adjoint"
   ]
  },
  {
   "cell_type": "markdown",
   "metadata": {},
   "source": [
    "Από τη θεωρία γνωρίζουμε ότι ισχύει ο τύπος\n",
    "\n",
    "$$\n",
    "A^{-1} = \\frac{1}{det(A)} adj(A)\n",
    "$$\n",
    "\n",
    "όπου: $adj(A)$ είναι ο προσαρτημένος πίνακας του $A$."
   ]
  },
  {
   "cell_type": "markdown",
   "metadata": {},
   "source": [
    "Ο τύπος αυτός μας δίνει μια ικανή και αναγκαία συνθήκη για να είναι ένας $n \\times n$ πίνακας $A$ αντιστρέψιμος:"
   ]
  },
  {
   "cell_type": "markdown",
   "metadata": {},
   "source": [
    "<b>Πρόταση:</b> Ένας $n \\times n$ πίνακας $A$ είναι αντιστρέψιμος αν-ν $det(A) \\neq 0$."
   ]
  },
  {
   "cell_type": "markdown",
   "metadata": {},
   "source": [
    "<b>Παράδειγμα:</b>"
   ]
  },
  {
   "cell_type": "code",
   "execution_count": null,
   "metadata": {},
   "outputs": [],
   "source": [
    "A = matrix(ZZ, 3, 3, [1, 2, 1, 1, -1, 1, 1, 1, 0])\n",
    "A_inv = 1/det(A) * A.adjugate()\n",
    "show(A_inv)"
   ]
  },
  {
   "cell_type": "code",
   "execution_count": null,
   "metadata": {},
   "outputs": [],
   "source": [
    "# Επαλήθευση\n",
    "A * A_inv == identity_matrix(QQ, 3) == A_inv * A"
   ]
  },
  {
   "cell_type": "markdown",
   "metadata": {},
   "source": [
    "#### Εύρεση του αντιστρόφου με τη βοήθεια της `rref`"
   ]
  },
  {
   "cell_type": "markdown",
   "metadata": {},
   "source": [
    "Μπορούμε να βρούμε τον αντίστροφο ενός αντιστρέψιμου $n \\times n$ πίνακα $A$ με τη βοήθεια της απαλοιφής του Gauss. Τα βήματα είναι τα εξής:\n",
    "<ol>\n",
    "    <li>Επαυξάνουμε τον πίνακα $A$ με τον μοναδιαίο πίνακα $I_n$, σχηματίζοντας έτσι τον $n \\times 2n$ πίνακα [$A$ $I_n$].</li>\n",
    "    <li>Εκτελώντας γραμμοπράξεις, τον μετασχηματίζουμε στην ανηγμένη κλιμακωτή του μορφή [$R$ $B$].\n",
    "        <ul>\n",
    "            <li>Αν $R = I_n$, τότε ο $A$ είναι αντιστρέψιμος και μάλιστα $A^{-1} = B$.</li>\n",
    "            <li>Αν $R \\neq I_n$, τότε ο $A$ δεν είναι αντιστρέψιμος.</li>\n",
    "        </ul>\n",
    "    </li>\n",
    "</ol>"
   ]
  },
  {
   "cell_type": "markdown",
   "metadata": {},
   "source": [
    "<b>Άσκηση:</b> Υλοποιήστε μια συνάρτηση SageMath που θα υπολογίζει και θα επιστρέφει τον $A^{-1}$ με τον παραπάνω αλγόριθμο για έναν οποιοδήποτε (αντιστρέψιμο) πίνακα που θα δίνεται ως παράμετρος."
   ]
  },
  {
   "cell_type": "markdown",
   "metadata": {},
   "source": [
    "<b>Παράδειγμα:</b>"
   ]
  },
  {
   "cell_type": "code",
   "execution_count": null,
   "metadata": {},
   "outputs": [],
   "source": [
    "A = matrix(ZZ, 3, 3, [1, 2, 1, 1, -1, 1, 1, 1, 0])\n",
    "I = identity_matrix(ZZ, 3)\n",
    "AI = A.augment(I, subdivide=True)\n",
    "show(AI)"
   ]
  },
  {
   "cell_type": "code",
   "execution_count": null,
   "metadata": {},
   "outputs": [],
   "source": [
    "RB = AI.rref()\n",
    "show(RB)"
   ]
  },
  {
   "cell_type": "code",
   "execution_count": null,
   "metadata": {},
   "outputs": [],
   "source": [
    "show(RB.submatrix(0, 0, 3, 3))"
   ]
  },
  {
   "cell_type": "markdown",
   "metadata": {},
   "source": [
    "Ο αντίστροφος ενός $n \\times n$ πίνακα $A$ μπορεί να βρεθεί απευθείας με τη μέθοδο `inverse()` (ή με το πεδίο I) της κλάσης `matrix`."
   ]
  },
  {
   "cell_type": "code",
   "execution_count": null,
   "metadata": {},
   "outputs": [],
   "source": [
    "A = matrix(ZZ, 3, 3, [1, 2, 1, 1, -1, 1, 1, 1, 0])\n",
    "\n",
    "print(\"Ο πίνακας A είναι:\")\n",
    "show(A)\n",
    "\n",
    "print(\"Ο αντίστροφος του πίνακα A είναι:\")\n",
    "A_prime = A.inverse()   # εναλλακτικά: show(A.I)\n",
    "show(A_prime)\n",
    "\n",
    "print(\"Επαλήθευση:\")\n",
    "\n",
    "# αγνοήστε τη σημασία της επόμενης γραμμής\n",
    "show(LatexExpr(r\"{} \\cdot {} = {} = {} \\cdot {}\".format(latex(A), latex(A_prime), latex(A * A_prime), latex(A_prime), latex(A))))"
   ]
  },
  {
   "cell_type": "markdown",
   "metadata": {},
   "source": [
    "<b>Σημείωση:</b> Μπορούμε επίσης να υπολογίσουμε τον $A^{-1}$ με την εντολή `A^(-1)`."
   ]
  },
  {
   "cell_type": "markdown",
   "metadata": {},
   "source": [
    "### Βαθμίδα Πίνακα"
   ]
  },
  {
   "cell_type": "markdown",
   "metadata": {},
   "source": [
    "<b>Ορισμός:</b> Λέμε ότι ένας μη-μηδενικός $m \\times n$ πίνακας $A$ έχει βαθμίδα ή βαθμό (rank) ίση με $k \\in \\mathbb{N}$, όταν υπάρχει ελάσσων ορίζουσα $k$ τάξης του $A$ διάφορη του μηδενός, ενώ κάθε ελάσσων ορίζουσα του $A$ με τάξη μεγαλύτερη από $k$ είναι μηδέν.\n",
    "\n",
    "Επίσης, αν $A$ είναι ένας μηδενικός πίνακας, τότε ορίζουμε $rank(A) = 0$.\n",
    "\n",
    "Για τη βαθμίδα ενός πίνακα ισχύει το επόμενο Θεώρημα."
   ]
  },
  {
   "cell_type": "markdown",
   "metadata": {},
   "source": [
    "<b>Θεώρημα:</b> Αν $A$ είναι ένας $m \\times n$ πίνακας, τότε:\n",
    "<ol>\n",
    "    <li>$rank(A) \\leq \\min\\{m, n\\}$</li>\n",
    "    <li>$rank(A) = rank(A^T)$</li>\n",
    "</ol>"
   ]
  },
  {
   "cell_type": "markdown",
   "metadata": {},
   "source": [
    "<b>Παράδειγμα:</b> Να υπολογιστεί η βαθμίδα του πίνακα:\n",
    "\n",
    "$$\n",
    "A = \\left[\n",
    "        \\begin{array}{cccc}\n",
    "            1  &  2  & 3  & 4    \\\\\n",
    "            -1 &  0  & 1  & 3    \\\\\n",
    "            2  &  2  & 2  & 1\n",
    "        \\end{array}\n",
    "\\right]\n",
    "$$\n",
    "\n",
    "Επειδή ο $A$ είναι $3 \\times 4$, θα είναι: $rank(A) \\leq 3$.\n",
    "Ελέγχουμε αν υπάρχει ελάσσων ορίζουσα 3ης τάξης του $A$ διάφορη του μηδενός:\n",
    "\n",
    "$$\n",
    "D_1 = \\left|\n",
    "        \\begin{array}{ccc}\n",
    "            1  &  2  & 3   \\\\\n",
    "            -1 &  0  & 1   \\\\\n",
    "            2  &  2  & 2\n",
    "        \\end{array} \\right| = 0, \\quad\n",
    "D_2 = \\left|\n",
    "        \\begin{array}{ccc}\n",
    "            1  &  2  & 4   \\\\\n",
    "            -1 &  0  & 3   \\\\\n",
    "            2  &  2  & 1\n",
    "        \\end{array} \\right| = 0,\n",
    "$$\n",
    "\n",
    "$$\n",
    "D_3 = \\left|\n",
    "        \\begin{array}{ccc}\n",
    "            1  &  3  & 4   \\\\\n",
    "            -1 &  1  & 3   \\\\\n",
    "            2  &  2  & 1\n",
    "        \\end{array} \\right| = 0, \\quad\n",
    "D_4 = \\left|\n",
    "        \\begin{array}{ccc}\n",
    "            2  &  3  & 4   \\\\\n",
    "            0  &  1  & 3   \\\\\n",
    "            2  &  2  & 1\n",
    "        \\end{array} \\right| = 0\n",
    "$$\n",
    "\n",
    "Όμως, υπάρχει η ελάσσων ορίζουσα 2ης τάξης του $A$: $\\left| \\begin{array}{cc} 1 & 2 \\\\ -1 & 0 \\end{array} \\right| = 2 \\neq 0$ και άρα $rank(A) = 2$."
   ]
  },
  {
   "cell_type": "markdown",
   "metadata": {},
   "source": [
    "<b>Θεώρημα:</b> Ένας $n \\times n$ πίνακας έχει αντίστροφο αν και μόνο αν:\n",
    "$$rank(A) = n$$"
   ]
  },
  {
   "cell_type": "markdown",
   "metadata": {},
   "source": [
    "<b>Θεώρημα:</b> Αν $A$ είναι ένας $m \\times n$ πίνακας, τότε υπάρχει $n \\times 1$ πίνακας $x$ τέτοιος ώστε: $Ax = b$, αν και μόνο αν $rank(A) = rank(A|b)$. Με άλλα λόγια, η $rank(A) = rank(A|b) = r$ είναι ικανή και αναγκαία συνθήκη για να έχει λύση ένα $m \\times n$ γραμμικό σύστημα $Ax = b$. Αν ισχύει η συνθήκη αυτή, τότε η γενική λύση του συστήματος θα περιέχει $n - r$ παραμέτρους ($(n - r)$-παραμετρική απειρία λύσεων)."
   ]
  },
  {
   "cell_type": "markdown",
   "metadata": {},
   "source": [
    "<b>Ορισμός:</b> Λέμε ότι ένας $m \\times n$ πίνακας $A$ έχει <b>πλήρη βαθμό κατά γραμμές</b> (full row rank) αν $rank(A) = m$ και <b>πλήρη βαθμό κατά στήλες</b> (full column rank) αν $rank(A) = n$."
   ]
  },
  {
   "cell_type": "markdown",
   "metadata": {},
   "source": [
    "Ο υπολογισμός της βαθμίδας ενός πίνακα στο SageMath μπορεί να γίνει με τη μέθοδο `rank` (μπορεί να χρησιμοποιηθεί και ως συνάρτηση):"
   ]
  },
  {
   "cell_type": "markdown",
   "metadata": {},
   "source": [
    "<b>Παραδείγματα:</b>"
   ]
  },
  {
   "cell_type": "code",
   "execution_count": null,
   "metadata": {},
   "outputs": [],
   "source": [
    "A = matrix(ZZ, 3, 3, [2, 3, 4, 0, 1, 5, 0, 0, 1])\n",
    "show(A)\n",
    "print( \"rank(A) = \", rank(A) )"
   ]
  },
  {
   "cell_type": "code",
   "execution_count": null,
   "metadata": {},
   "outputs": [],
   "source": [
    "B = matrix(ZZ, 2, 3, [1, 2, 3, 0, 0, 4])\n",
    "show(B)\n",
    "print( \"rank(B) = \", B.rank() )"
   ]
  },
  {
   "cell_type": "code",
   "execution_count": null,
   "metadata": {},
   "outputs": [],
   "source": [
    "C = matrix(ZZ, 1, 3, [1, 2, 3])\n",
    "show(C)\n",
    "print( \"rank(C) = \", rank(C) )"
   ]
  },
  {
   "cell_type": "code",
   "execution_count": null,
   "metadata": {},
   "outputs": [],
   "source": [
    "D = matrix(ZZ, 3, 4, [1, 2, 3, 4, -1, 0, 1, 3, 2, 2, 2, 1])\n",
    "show(D)\n",
    "print( \"rank(D) = \", D.rank() )"
   ]
  },
  {
   "cell_type": "code",
   "execution_count": null,
   "metadata": {},
   "outputs": [],
   "source": [
    "E = matrix(ZZ, 4, 3, [1, 4, 2, 0, 2, 5, 0, 0, 3, 0, 0, 0])\n",
    "show(E)\n",
    "print( \"rank(E) = \", E.rank() )"
   ]
  }
 ],
 "metadata": {
  "kernelspec": {
   "display_name": "SageMath 9.1",
   "language": "sage",
   "name": "sagemath"
  },
  "language_info": {
   "codemirror_mode": {
    "name": "ipython",
    "version": 3
   },
   "file_extension": ".py",
   "mimetype": "text/x-python",
   "name": "python",
   "nbconvert_exporter": "python",
   "pygments_lexer": "ipython3",
   "version": "3.7.3"
  }
 },
 "nbformat": 4,
 "nbformat_minor": 1
}
