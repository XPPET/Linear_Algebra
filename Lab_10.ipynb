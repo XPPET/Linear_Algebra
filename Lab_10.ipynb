{
 "cells": [
  {
   "cell_type": "markdown",
   "metadata": {},
   "source": [
    "# Εργαστήριο 10ο - Διανυσματικοί Χώροι"
   ]
  },
  {
   "cell_type": "markdown",
   "metadata": {
    "collapsed": true
   },
   "source": [
    "## Διανυσματικοί Χώροι"
   ]
  },
  {
   "cell_type": "markdown",
   "metadata": {},
   "source": [
    "Είδαμε σε προηγούμενα μαθήματα πως η δημιουργία διανυσμάτων γίνεται με την κλάση `vector`. Χρησιμοποιώντας τις πράξεις $+$ και $\\cdot$ μπορούμε να δημιουργήσουμε γραμμικούς συνδυασμούς (linear combinations) διανυσμάτων."
   ]
  },
  {
   "cell_type": "code",
   "execution_count": null,
   "metadata": {},
   "outputs": [],
   "source": [
    "v1 = vector(QQ, [1, 2, -3])\n",
    "v2 = vector(QQ, [3, -1, 2])\n",
    "v3 = vector(QQ, [1, -5, 8])\n",
    "\n",
    "v = 3*v1 -v2 + 2*v3   # ένας γρ. συνδυασμός των v1, v2 και v3.\n",
    "v"
   ]
  },
  {
   "cell_type": "markdown",
   "metadata": {},
   "source": [
    "<b>Παράδειγμα:</b> Ελέγχουμε αν τα επόμενα διανύσματα είναι γρ. εξαρτημένα με βάση τον ορισμό της γρ. εξάρτησης:"
   ]
  },
  {
   "cell_type": "code",
   "execution_count": null,
   "metadata": {},
   "outputs": [],
   "source": [
    "v1 = vector(QQ, [1, 2, -3, 4])\n",
    "v2 = vector(QQ, [3, -1, 2, 1])\n",
    "v3 = vector(QQ, [1, -5, 8, -7])\n",
    "\n",
    "var('l1, l2, l3')\n",
    "solve(list(l1*v1 + l2*v2 + l3*v3), [l1, l2, l3])   # το διάνυσμα του αριστερού μέλους πρέπει να μετατραπεί σε λίστα!"
   ]
  },
  {
   "cell_type": "markdown",
   "metadata": {},
   "source": [
    "άρα τα $v_1, v_2$ και $v_3$ είναι γραμμικά εξαρτημένα."
   ]
  },
  {
   "cell_type": "markdown",
   "metadata": {},
   "source": [
    "Εναλλακτικά, μπορούμε να ελέγξουμε τη βαθμίδα του πίνακα που τα έχει ως γραμμές (ή στήλες):"
   ]
  },
  {
   "cell_type": "code",
   "execution_count": null,
   "metadata": {},
   "outputs": [],
   "source": [
    "V = matrix([v1, v2, v3])   # Ο πίνακας V έχει τα διανύσματα v1, v2 και v3 ως γραμμές\n",
    "rank(V)                    # Θυμηθείτε ότι: rank(V) == rank(V.transpose())"
   ]
  },
  {
   "cell_type": "markdown",
   "metadata": {},
   "source": [
    "Επομένως, μόνο τα δύο από τα τρία διανύσματα του $\\mathbb{Q}^3$ είναι γραμμικά ανεξάρτητα. Ποιά;"
   ]
  },
  {
   "cell_type": "code",
   "execution_count": null,
   "metadata": {},
   "outputs": [],
   "source": [
    "V.rref()"
   ]
  },
  {
   "cell_type": "code",
   "execution_count": null,
   "metadata": {},
   "outputs": [],
   "source": [
    "V.pivot_rows()   # Οι αριθμοδείκτες που αντιστοιχούν στις γρ. ανεξάρτητες γραμμές-διανύσματα του αρχικού πίνακα."
   ]
  },
  {
   "cell_type": "markdown",
   "metadata": {},
   "source": [
    "και άρα το $v_3$ μπορεί να γραφεί ως γραμμικός συνδυασμός των $v_1, v_2$."
   ]
  },
  {
   "cell_type": "markdown",
   "metadata": {},
   "source": [
    "### Δημιουργία Διανυσματικών Χώρων"
   ]
  },
  {
   "cell_type": "markdown",
   "metadata": {},
   "source": [
    "Το SageMath χειρίζεται τα διανύσματα και τους πίνακες ως αλγεβρικά αντικείμενα που ανήκουν σε έναν χώρο. Αυτός ο χώρος θα ειναι ένας διανυσματικός χώρος όταν οι συνιστώσες των στοιχείων τους προέρχονται από ένα σώμα.\n",
    "\n",
    "Η δημιουργία του διανυσματικού χώρου (δ.χ.) $\\mathbb{K}^n$, όπου: $\\mathbb{K}$ είναι ένα σώμα και $n$ η διάσταση του χώρου γίνεται με τον κατασκευαστή της κλάσης `VectorSpace`:\n",
    "\n",
    "```VectorSpace(K, n)```"
   ]
  },
  {
   "cell_type": "code",
   "execution_count": null,
   "metadata": {},
   "outputs": [],
   "source": [
    "# Δημιουργία του διανυσματικού χώρου Q^3\n",
    "V = VectorSpace(QQ, 3); V"
   ]
  },
  {
   "cell_type": "markdown",
   "metadata": {},
   "source": [
    "<b>Σημείωση:</b> Στην περίπτωση του σώματος των πραγματικών αριθμών μπορούμε να επιλέξουμε ανάμεσα σε δύο μοντέλα για την αναπαράσταση: `RR` και `RDF`. Η διαφορά είναι πως το `RDF` αποτελεί μια προσέγγιση του συνόλου των πραγματικών αριθμών, όπου οι αριθμοί έχουν ακρίβεια `double`, ενώ το `RR` μπορεί να έχει προκαθορισμένη ακρίβεια κατά την εκτέλεση των υπολογισμών (εξ ορισμού είναι 53 bit). Το 2ο μοντέλο χρησιμοποιείται ευρύτερα λόγω της ταχύτερης εκτέλεσης αριθμητικών υπολογισμών με αυτό. Ομοίως, αν θέλουμε να δουλέψουμε με μιγαδικούς, υπάρχουν τα σύνολα `CC` και `CDF`."
   ]
  },
  {
   "cell_type": "code",
   "execution_count": null,
   "metadata": {},
   "outputs": [],
   "source": [
    "V.dimension()   # Η διάσταση του δ.χ."
   ]
  },
  {
   "cell_type": "markdown",
   "metadata": {},
   "source": [
    "Μπορούμε να ανακτήσουμε τον δ.χ. στον οποίο εμφυτεύεται ο χώρος `V` με τη μέθοδο `ambient_vector_space()`:"
   ]
  },
  {
   "cell_type": "markdown",
   "metadata": {},
   "source": [
    "Μπορούμε να ανακτήσουμε μια βάση του δ.χ. `V` υπό μορφή λίστας διανυσμάτων με τη μέθοδο `basis()` της κλάσης `VectorSpace`:"
   ]
  },
  {
   "cell_type": "code",
   "execution_count": null,
   "metadata": {},
   "outputs": [],
   "source": [
    "V.basis()   # Επιστρέφει μια βάση του δ.χ. V ως λίστα διανυσμάτων"
   ]
  },
  {
   "cell_type": "markdown",
   "metadata": {},
   "source": [
    "ή ως πίνακα με τη μέθοδο `basis_matrix()`:"
   ]
  },
  {
   "cell_type": "code",
   "execution_count": null,
   "metadata": {},
   "outputs": [],
   "source": [
    "V.basis_matrix()   # Επιστρέφει μια βάση του δ.χ. V ως πίνακα"
   ]
  },
  {
   "cell_type": "markdown",
   "metadata": {},
   "source": [
    "Μπορούμε να δημιουργήσουμε υποχώρους ενός δ.χ. με τη μέθοδο `vector_space_span()` της κλάσης `VectorSpace`.\n",
    "\n",
    "<b>Παράδειγμα:</b>\n",
    "Στο επόμενο παράδειγμα δημιουργούμε τον διανυσματικό υποχώρο του $\\mathbb{R}^n$ που παράγεται από τα διανύσματα $v_1 = (1, 1, 0)$ και $v_2 = (0, 2, -1)$:"
   ]
  },
  {
   "cell_type": "code",
   "execution_count": null,
   "metadata": {},
   "outputs": [],
   "source": [
    "V = VectorSpace(RR, 3)\n",
    "B = V.basis()\n",
    "v1 = vector(RR, [2, 1, 0])\n",
    "v2 = vector(RR, [-2, 0, 1])\n",
    "W = V.vector_space_span([v1, v2])   # Δημιουργούμε έναν διδιάστατο υποχώρο του δ.χ. V.\n",
    "W"
   ]
  },
  {
   "cell_type": "markdown",
   "metadata": {},
   "source": [
    "Εναλλακτικά, μπορούμε να χρησιμοποιήσουμε τη μέθοδο `span()` της κλάσης `VectorSpace` για τη δημιουργία του ίδιου υποχώρου:"
   ]
  },
  {
   "cell_type": "code",
   "execution_count": null,
   "metadata": {},
   "outputs": [],
   "source": [
    "U = V.span([v1, v2])\n",
    "U"
   ]
  },
  {
   "cell_type": "markdown",
   "metadata": {},
   "source": [
    "Η βάση που εμφανίζει το SageMath στην περιγραφή του υποχώρου `W` είναι αυτή που θα μας επιστραφεί εάν καλέσουμε τη μέθοδο `basis()`:"
   ]
  },
  {
   "cell_type": "code",
   "execution_count": null,
   "metadata": {},
   "outputs": [],
   "source": [
    "W.basis()"
   ]
  },
  {
   "cell_type": "markdown",
   "metadata": {},
   "source": [
    "Μπορούμε να ελέγξουμε αν ένας δ.χ. `W` είναι υποχώρος ενός δ.χ. `V` με τη μέθοδο `is_subspace()`:"
   ]
  },
  {
   "cell_type": "code",
   "execution_count": null,
   "metadata": {},
   "outputs": [],
   "source": [
    "W.is_subspace(V)"
   ]
  },
  {
   "cell_type": "markdown",
   "metadata": {},
   "source": [
    "Οι δ.χ. και υποχώροι είναι σύνολα. Συνεπώς, δοθέντος ενός ή περισσότερων διανυσμάτων μπορούμε να ελέγξουμε εάν αυτά ανήκουν ή όχι σε αυτόν με τους τελεστές `in` και `not in` της Python:"
   ]
  },
  {
   "cell_type": "code",
   "execution_count": null,
   "metadata": {},
   "outputs": [],
   "source": [
    "v3 = vector(RR, [0, 1, 1])\n",
    "v4 = vector(RR, [1, 0, 0])\n",
    "\n",
    "print(v3 in W)\n",
    "print(v3 in V)\n",
    "print(v4 in W)\n",
    "print(v4 in V)"
   ]
  },
  {
   "cell_type": "markdown",
   "metadata": {},
   "source": [
    "Τα διανύσματα $v_1, v_2$ και $v_3$ είναι γραμμικά εξαρτημένα. Πράγματι, όπως βλέπουμε και από το επόμενο κελί, το διάνυσμα $v_3$ ανήκει στον υποχώρο $W$ και άρα όπως θα δούμε σε λίγο, μπορεί να αναλυθεί με μοναδικό τρόπο ως προς τη βάση του (δηλ. τα διανύσματα $v_1$ και $v_2$):"
   ]
  },
  {
   "cell_type": "code",
   "execution_count": null,
   "metadata": {},
   "outputs": [],
   "source": [
    "v3 = vector(RR , [-4, 5, 7])\n",
    "v3 in W"
   ]
  },
  {
   "cell_type": "markdown",
   "metadata": {},
   "source": [
    "Εάν θεωρήσουμε τον υποχώρο που παράγουν τα (γρ. εξαρτημένα) διανύσματα $v_1, v_2, v_3$, αυτός θα είναι ο ίδιος με τον υποχώρο που παράγουν τα $v_1, v_2$:"
   ]
  },
  {
   "cell_type": "code",
   "execution_count": null,
   "metadata": {},
   "outputs": [],
   "source": [
    "W_prime = V.span([v1, v2, v3])\n",
    "W_prime.basis()"
   ]
  },
  {
   "cell_type": "code",
   "execution_count": null,
   "metadata": {},
   "outputs": [],
   "source": [
    "W == W_prime   # Έλεγχος ισότητας διανυσματικών υποχώρων"
   ]
  },
  {
   "cell_type": "code",
   "execution_count": null,
   "metadata": {},
   "outputs": [],
   "source": [
    "v1, v2"
   ]
  },
  {
   "cell_type": "markdown",
   "metadata": {},
   "source": [
    "Παρατηρούμε ότι το SageMath δε μας επιστρέφει απλώς τα γραμμικά ανεξάρτητα διανύσματα που παράγουν τον υποχώρο `W`. Αυτό που το SageMath κάνει εσωτερικά είναι να δημιουργήσει έναν πίνακα με γραμμές τα διανύσματα που παράγουν τον υποχώρο και έπειτα τον μετατρέπει στην rref του. Από την rref, εξάγει και μας επιστρέφει τις μη-μηδενικές γραμμές του πίνακα ως βάση του υποχώρου. Επειδή η rref είναι μοναδική για κάθε πίνακα, κάθε διανυσματικός υποχώρος του πραγματικού $n$-διάστατου χώρου έχει μία και μόνο μία τέτοια βάση  που καλείται <b>κανονική βάση (canonical basis)</b> του χώρου. Αυτή είναι και η βάση που μας επιστρέφεται στην περιγραφή ενός (υπο)χώρου."
   ]
  },
  {
   "cell_type": "markdown",
   "metadata": {},
   "source": [
    "Εάν θέλουμε οπωσδήποτε να κρατήσουμε τη δική μας βάση, χρησιμοποιούμε τη μέθοδο `span_of_basis()` αντί της `span()`:"
   ]
  },
  {
   "cell_type": "code",
   "execution_count": null,
   "metadata": {},
   "outputs": [],
   "source": [
    "V = VectorSpace(RDF, 3)\n",
    "v1 = vector(RDF, [1, 2, 3])\n",
    "v2 = vector(RDF, [2, 1, 3])\n",
    "W = V.span_of_basis([v1, v2])\n",
    "W.basis () "
   ]
  },
  {
   "cell_type": "markdown",
   "metadata": {},
   "source": [
    "#### Έλεγχος Ισότητας Υποχώρων"
   ]
  },
  {
   "cell_type": "code",
   "execution_count": null,
   "metadata": {},
   "outputs": [],
   "source": [
    "V = VectorSpace(RDF, 4)\n",
    "v1 = vector(RDF, [1, 0, 0, 0])\n",
    "v2 = vector(RDF, [1, 1, 0, 0])\n",
    "v3 = vector(RDF, [2, 1, 0, 0])\n",
    "\n",
    "W12 = V.span([v1, v2])\n",
    "W13 = V.span([v1 , v3])"
   ]
  },
  {
   "cell_type": "markdown",
   "metadata": {},
   "source": [
    "Ένας τρόπος για να ελέγξουμε αν δυο υποχώροι είναι ίσοι, είναι μέσω του τελεστή συμπερίληψης `in`. Πιο συγκεκριμένα, πρέπει να ελέγξουμε αν τα διανύσματα που παράγουν τον ένα χώρο ανήκουν στον άλλο και αντίστροφα:"
   ]
  },
  {
   "cell_type": "code",
   "execution_count": null,
   "metadata": {},
   "outputs": [],
   "source": [
    "v3 in W12"
   ]
  },
  {
   "cell_type": "code",
   "execution_count": null,
   "metadata": {},
   "outputs": [],
   "source": [
    "v2 in W13"
   ]
  },
  {
   "cell_type": "markdown",
   "metadata": {},
   "source": [
    "Και άρα επειδή προφανώς $v_1 \\in W_{12}$ και $v_1 \\in W_{13}$, θα είναι $W_{12} = W_{13}$."
   ]
  },
  {
   "cell_type": "markdown",
   "metadata": {},
   "source": [
    "Ωστόσο, ο πιο άμεσος τρόπος είναι με τον υπερφορτωμένο τελεστή `==`:"
   ]
  },
  {
   "cell_type": "code",
   "execution_count": null,
   "metadata": {},
   "outputs": [],
   "source": [
    "W12 == W13"
   ]
  },
  {
   "cell_type": "code",
   "execution_count": null,
   "metadata": {},
   "outputs": [],
   "source": [
    "v4 = vector(RDF, [1, 1, 1, 1])\n",
    "W14 = V.span([v1, v4])\n",
    "\n",
    "print(v2 in W14)\n",
    "print(v3 in W14)\n",
    "print(v4 in W12)\n",
    "print(v4 in W13)\n",
    "print(W12 == W14)\n",
    "print(W13 == W14)"
   ]
  },
  {
   "cell_type": "markdown",
   "metadata": {},
   "source": [
    "<b>Πώς λειτουργεί ο έλεγχος ισότητας στο SageMath:</b>\n",
    "Το SageMath προκειμένου να αποφανθεί εάν δυο διανυσματικοί (υπο)χώροι είναι ίσοι, συγκρίνει τις κανονικές βάσεις που διατηρεί για τον καθένα. Παρότι αυτό έχει την ίδια εξωτερική συμπεριφορά για τον χρήστη, με τους ελέγχους συμπερίληψης που εκτελέσαμε παραπάνω, στην πραγματικότητα διαφέρει σημαντικά και για του λόγου το αληθές είναι ταχύτερος ως προς το χρόνο εκτέλεσης. Όταν έχουμε να κάνουμε με υπολογισμούς, είναι πολύ σημαντικό να μπορούμε να βρούμε τον ταχύτερο δυνατό τρόπο εκτέλεσης."
   ]
  },
  {
   "cell_type": "markdown",
   "metadata": {
    "collapsed": true
   },
   "source": [
    "### Διανυσματικοί χώροι ενός πίνακα"
   ]
  },
  {
   "cell_type": "markdown",
   "metadata": {},
   "source": [
    "Ο γραμμο-χώρος μπορεί να βρεθεί στο SageMath με τη μέθοδο `row_space()` της κλάσης `matrix`:"
   ]
  },
  {
   "cell_type": "code",
   "execution_count": null,
   "metadata": {},
   "outputs": [],
   "source": [
    "A = matrix(QQ, 4, 3, [1, 3, 1, 2, -1, -5, -3, 2, 8, 4, 1, -7])\n",
    "A.row_space()"
   ]
  },
  {
   "cell_type": "code",
   "execution_count": null,
   "metadata": {},
   "outputs": [],
   "source": [
    "A.rref()"
   ]
  },
  {
   "cell_type": "markdown",
   "metadata": {},
   "source": [
    "Ο στηλο-χώρος μπορεί να βρεθεί στο SageMath με τη μέθοδο `column_space()` της κλάσης `matrix`:"
   ]
  },
  {
   "cell_type": "code",
   "execution_count": null,
   "metadata": {},
   "outputs": [],
   "source": [
    "A = matrix(QQ, 4, 3, [1, 3, 1, 2, -1, -5, -3, 2, 8, 4, 1, -7])\n",
    "A.column_space()"
   ]
  },
  {
   "cell_type": "code",
   "execution_count": null,
   "metadata": {},
   "outputs": [],
   "source": [
    "A.transpose().rref()   # η αναστροφή είναι απαραίτητη, ώστε οι γραμμές να γίνουν στήλες!!!"
   ]
  },
  {
   "cell_type": "markdown",
   "metadata": {},
   "source": [
    "Από τον τρόπο που ορίζονται ο γραμμο-χώρος και ο στηλο-χώρος, βλέπουμε ότι: $col(A) = row(A^T)$ και $row(A) = col(A^T)$."
   ]
  },
  {
   "cell_type": "code",
   "execution_count": null,
   "metadata": {},
   "outputs": [],
   "source": [
    "A.row_space() == A.transpose().column_space()"
   ]
  },
  {
   "cell_type": "code",
   "execution_count": null,
   "metadata": {},
   "outputs": [],
   "source": [
    "A.column_space() == A.transpose().row_space()"
   ]
  },
  {
   "cell_type": "markdown",
   "metadata": {},
   "source": [
    "Θυμίζουμε ότι η rref του πίνακα $A$ είναι μοναδική. Επομένως οι μη-μηδενικές γραμμές του είναι επίσης μοναδικές και σχηματίζουν μια βάση του $row(A)$ που όπως είπαμε λέγεται <b>κανονική βάση (canonical basis)</b>."
   ]
  },
  {
   "cell_type": "markdown",
   "metadata": {},
   "source": [
    "<b>Ορισμός:</b> Ο μηδενικός χώρος (ή μηδενοχώρος) ή πυρήνας (null space ή kernel) του πίνακα $A$ ορίζεται ως ο δ.χ. των διανυσμάτων $x \\in \\mathbb{K}^n$ που ικανοποιούν τη σχέση: $A x = O$.\n",
    "\n",
    "Με άλλα λόγια, ο μηδενοχώρος του πίνακα $A$ είναι το σύνολο των λύσεων του ομογενούς γραμμικού συστήματος $Ax=O$."
   ]
  },
  {
   "cell_type": "markdown",
   "metadata": {},
   "source": [
    "Ο μηδενοχώρος ενός πίνακα $A$ μπορεί να βρεθεί στο SageMath με τη μέθοδο `right_kernel()()` της κλάσης `matrix`:"
   ]
  },
  {
   "cell_type": "code",
   "execution_count": null,
   "metadata": {},
   "outputs": [],
   "source": [
    "A = matrix(QQ, 4, 3, [1, 3, 1, 2, -1, -5, -3, 2, 8, 4, 1, -7])\n",
    "A.right_kernel()"
   ]
  },
  {
   "cell_type": "markdown",
   "metadata": {},
   "source": [
    "<b>Σημείωση:</b> Η διάσταση του $null(A)$ συνήθως αναφέρεται ως *nullity* στη διεθνή βιβλιογραφία και μπορεί να βρεθεί στο SageMath με την ομώνυμη μέθοδο `right_nullity()` της κλάσης `matrix`. Έτσι για το προηγούμενο παράδειγμα, είναι:"
   ]
  },
  {
   "cell_type": "code",
   "execution_count": null,
   "metadata": {},
   "outputs": [],
   "source": [
    "A.right_nullity()"
   ]
  },
  {
   "cell_type": "code",
   "execution_count": null,
   "metadata": {},
   "outputs": [],
   "source": [
    "A = matrix(QQ, 4, 3, [1, 3, 1, 2, -1, -5, -3, 2, 8, 4, 1, -7])\n",
    "A.kernel()"
   ]
  },
  {
   "cell_type": "markdown",
   "metadata": {},
   "source": [
    "### Ευκλείδειοι Χώροι"
   ]
  },
  {
   "cell_type": "markdown",
   "metadata": {},
   "source": [
    "Στον δ.χ. $\\mathbb{R}^n$, το εσωτερικό γινόμενο δύο διανυσμάτων $x = (x_1, x_2, \\ldots, x_n)$ και $y = (y_1, y_2, \\ldots, y_n)$ ορίζεται από τον τύπο:\n",
    "\n",
    "$$ x \\cdot y = \\sum_{i=1}^{n} x_i y_i = x_1 y_1 + x_2 y_2 + \\ldots + x_n y_n $$"
   ]
  },
  {
   "cell_type": "markdown",
   "metadata": {},
   "source": [
    "και στο SageMath μπορεί να υπολογιστεί με τον υπερφορτωμένο τελεστή `*` ή τη μέθοδο `inner_product()` της κλάσης `vector`:"
   ]
  },
  {
   "cell_type": "code",
   "execution_count": null,
   "metadata": {},
   "outputs": [],
   "source": [
    "x = vector(QQ, [1, 2, 3])\n",
    "y = vector(QQ, [4, 5, 6])\n",
    "x * y   # ή x.inner_product(y)"
   ]
  },
  {
   "cell_type": "markdown",
   "metadata": {},
   "source": [
    "Το (Ευκλείδειο) μέτρο (ή νόρμα ή στάθμη) ενός διανύσματος $x$ δίνεται από τον τύπο:\n",
    "\n",
    "$$ \\Vert x \\Vert = \\sqrt{x \\cdot x} = \\sqrt{x_1^2 + x_2^2 + \\ldots + x_n^2} $$"
   ]
  },
  {
   "cell_type": "markdown",
   "metadata": {},
   "source": [
    "και στο SageMath μπορεί να υπολογιστεί με τη μέθοδο `norm()` της κλάσης `vector`."
   ]
  },
  {
   "cell_type": "code",
   "execution_count": null,
   "metadata": {},
   "outputs": [],
   "source": [
    "u = vector(RR, [1, 1, 1, 1])   # Ένα διάνυσμα του R^4\n",
    "print( u.norm() )              # Το μέτρο (ή μήκος) του διανύσματος (εναλλακτικά: norm(u))"
   ]
  },
  {
   "cell_type": "markdown",
   "metadata": {},
   "source": [
    "Με τη βοήθεια του μέτρου, μπορεί να οριστεί και η έννοια της απόστασης (distance) διανυσμάτων:"
   ]
  },
  {
   "cell_type": "code",
   "execution_count": null,
   "metadata": {},
   "outputs": [],
   "source": [
    "def dist(u, v):\n",
    "    return norm(u - v)"
   ]
  },
  {
   "cell_type": "code",
   "execution_count": null,
   "metadata": {},
   "outputs": [],
   "source": [
    "x = vector(QQ, [1, 2, 3])\n",
    "y = vector(QQ, [4, 5, 6])\n",
    "dist(x, y)"
   ]
  },
  {
   "cell_type": "markdown",
   "metadata": {},
   "source": [
    "Η γωνία $\\phi$ των διανυσμάτων $u$ και $v$ δίνεται από τον τύπο:\n",
    "\n",
    "$$\n",
    "\\cos\\phi = \\frac{u \\cdot v}{\\Vert u \\Vert\\Vert v \\Vert}\n",
    "$$\n",
    "\n",
    "<b>Σημείωση:</b> Ο αριθμητής είναι εσωτερικό γινόμενο διανυσμάτων, ενώ ο παρονομαστής γινόμενο αριθμών."
   ]
  },
  {
   "cell_type": "markdown",
   "metadata": {},
   "source": [
    "<b>Παράδειγμα:</b> Θεωρούμε τα διανύσματα $x = (2, 5)$, $y = (6, 5)$ στον Ευκλείδειο χώρο $\\mathbb{R}^2$."
   ]
  },
  {
   "cell_type": "code",
   "execution_count": null,
   "metadata": {},
   "outputs": [],
   "source": [
    "x = vector(RR, [2, 5])\n",
    "y = vector(RR, [6, 5])\n",
    "\n",
    "print( \"Το εσωτερικό γινόμενο των x και y είναι:\", x * y )  # ή x.inner_product(y)\n",
    "print( \"Η γωνία των x και y είναι:\", arccos((x*y)/(x.norm()*y.norm())) )"
   ]
  },
  {
   "cell_type": "markdown",
   "metadata": {},
   "source": [
    "<b>Σημείωση:</b> Η μαθηματική συνάρτηση `arccos()` (τόξο συνημιτόνου) είναι η αντίστροφη της συνάρτησης `cos()` (συνημίτονο) και μας επιστρέφει τη γωνία που αντιστοιχεί σε δεδομένο τόξο."
   ]
  },
  {
   "cell_type": "markdown",
   "metadata": {},
   "source": [
    "Με τη βοήθεια του SageMath μπορούμε να σχεδιάσουμε τα διανύσματα στο επίπεδο (ή το χώρο στην περίπτωση του $\\mathbb{R}^3$):"
   ]
  },
  {
   "cell_type": "code",
   "execution_count": null,
   "metadata": {},
   "outputs": [],
   "source": [
    "# Αγνοήστε τη σημασία αυτού του κελιού\n",
    "x = vector(RR, [2, 5])\n",
    "y = vector(RR, [6, 5])\n",
    "e1 = vector(QQ, [1, 0])\n",
    "\n",
    "p = plot(x, axes=False, color='black') \\\n",
    "    + plot(y, axes=False, color='black') \\\n",
    "    + arc((0,0), 1.0, sector=(arccos(e1*y/(y.norm())), arccos(e1*x/(x.norm()))), color='blue') \\\n",
    "    + text(\"$x$\",(2-0.4,5), fontsize='large', color='black') \\\n",
    "    + text(\"$y$\",(6+0.4,5), fontsize='large', color='black') \\\n",
    "    + text(\"$\\\\phi$\",(0.7,1.0), fontsize='large', color='blue')\n",
    "\n",
    "show(p, figsize=[4,4], title='Angle between vectors $x$ and $y$')"
   ]
  },
  {
   "cell_type": "markdown",
   "metadata": {},
   "source": [
    "### Χώροι πινάκων"
   ]
  },
  {
   "cell_type": "markdown",
   "metadata": {},
   "source": [
    "Οι δ.χ. ως δομή δεν περιορίζονται μόνο στις $n$-άδες του $\\mathbb{R}^n$ μέσω της κλάσης `VectorSpace`. Το σύνολο των $m \\times n$ πινάκων με την πράξη της πρόσθεσης πινάκων και τον βαθμωτό πολ/σμό είναι επίσης ένας δ.χ."
   ]
  },
  {
   "cell_type": "markdown",
   "metadata": {},
   "source": [
    "Στο SageMath μπορούμε δημιουργούμε χώρους πινάκων με την κλάση `MatrixSpace`. Η δημιουργία του δ.χ. πινάκων $M_{m,n}(\\mathbb{K})$, όπου: $\\mathbb{K}$ είναι ένα σώμα, $m$ είναι το πλήθος των γραμμών και $n$ το πλήθος των στηλών γίνεται με τον κατασκευαστή της κλάσης `MatrixSpace`:\n",
    "\n",
    "```MatrixSpace(K, m, n)```"
   ]
  },
  {
   "cell_type": "code",
   "execution_count": null,
   "metadata": {},
   "outputs": [],
   "source": [
    "# Δημιουργία του διανυσματικού χώρου των 3x4 πινάκων με στοιχεία ρητούς\n",
    "M = MatrixSpace(QQ, 3, 4)\n",
    "M"
   ]
  },
  {
   "cell_type": "code",
   "execution_count": null,
   "metadata": {},
   "outputs": [],
   "source": [
    "M.dimension()   # Η διάσταση του δ.χ. M"
   ]
  },
  {
   "cell_type": "code",
   "execution_count": null,
   "metadata": {},
   "outputs": [],
   "source": [
    "# Δημιουργία ενός πίνακα A που ανήκει στο δ.χ. M\n",
    "A = M([1, 2, 3, 4, 5, 6, 7, 8, 9, 10, 11, 12])\n",
    "show(A)"
   ]
  },
  {
   "cell_type": "markdown",
   "metadata": {},
   "source": [
    "Με τη μέθοδο `basis()` μπορούμε να ανακτήσουμε τη βάση του διανυσματικού μας χώρου:"
   ]
  },
  {
   "cell_type": "markdown",
   "metadata": {},
   "source": [
    "M.basis()"
   ]
  },
  {
   "cell_type": "markdown",
   "metadata": {},
   "source": [
    "η οποία δεν είναι άλλη από τη συνήθη βάση του $M_{m \\times n}(\\mathbb{R})$."
   ]
  },
  {
   "cell_type": "markdown",
   "metadata": {},
   "source": [
    "Η μέθοδος `zero()` (ή εναλλακτικά `zero_matrix()`) του αντικειμένου που κατασκευάσαμε μας επιστρέφει το μηδενικό στοιχείο του δ.χ.:"
   ]
  },
  {
   "cell_type": "code",
   "execution_count": null,
   "metadata": {},
   "outputs": [],
   "source": [
    "M.zero()   # ή M.zero_matrix()"
   ]
  }
 ],
 "metadata": {
  "kernelspec": {
   "display_name": "SageMath 9.1",
   "language": "sage",
   "name": "sagemath"
  },
  "language_info": {
   "codemirror_mode": {
    "name": "ipython",
    "version": 3
   },
   "file_extension": ".py",
   "mimetype": "text/x-python",
   "name": "python",
   "nbconvert_exporter": "python",
   "pygments_lexer": "ipython3",
   "version": "3.7.3"
  }
 },
 "nbformat": 4,
 "nbformat_minor": 1
}
