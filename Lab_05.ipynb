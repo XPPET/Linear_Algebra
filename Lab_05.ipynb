{
 "cells": [
  {
   "cell_type": "markdown",
   "metadata": {
    "collapsed": true
   },
   "source": [
    "# Εργαστήριο 5ο - Πίνακες"
   ]
  },
  {
   "cell_type": "markdown",
   "metadata": {},
   "source": [
    "## Διανύσματα\n",
    "Τα διανύσματα δημιουργούνται με την κλάση `vector`. Αρκεί να προσδιορίσουμε την αλγεβρική δομή από την οποία προέρχονται οι συνιστώσες του και ποιές είναι αυτές μέσω μιας λίστας."
   ]
  },
  {
   "cell_type": "code",
   "execution_count": null,
   "metadata": {},
   "outputs": [],
   "source": [
    "v = vector(QQ, [2/3, -1/3, 1/2]) \n",
    "v"
   ]
  },
  {
   "cell_type": "markdown",
   "metadata": {},
   "source": [
    "<ul>\n",
    "    <li>Η πρώτη παράμετρος (`ring`) που δίνουμε στον κατασκευαστή της κλάσης `vector` είναι ο δακτύλιος (ή το σώμα) από τον οποίο προέρχονται τα στοιχεία του πίνακα.\n",
    "    </li>\n",
    "</ul>\n",
    "\n",
    "Το σύνολο των ακεραίων $\\mathbb{Z}$ με τις πράξεις της πρόσθεσης και του πολ/σμού είναι ένα παράδειγμα δακτυλίου. Άλλα αριθμοσύνολα όπως το σύνολο των ρητών $\\mathbb{Q}$ ή το σύνολο των πραγματικών αριθμών $\\mathbb{R}$ είναι επίσης δακτύλιοι (και για την ακρίβεια, σώματα).\n",
    "\n",
    "Μερικοί από τους σημαντικότερους δακτυλίους και σώματα του SageMath φαίνονται στον παρακάτω πίνακα:\n",
    "\n",
    "<table>\n",
    "    <tr>\n",
    "        <th><center>Όνομα δακτυλίου</center></th>\n",
    "        <th><center>Συντομογραφία</center></th>\n",
    "        <th><center>Περιγραφή</center></th>\n",
    "    </tr>\n",
    "    <tr>\n",
    "        <td><center>`IntegerRing()`</center></td>\n",
    "        <td><center>`ZZ`</center></td>\n",
    "        <td><center>Ο δακτύλιος των ακεραίων αριθμών $\\mathbb{Z}$.</center></td>\n",
    "    </tr>\n",
    "    <tr>\n",
    "        <td><center>`RationalField()` ή `Rationals()`</center></td>\n",
    "        <td><center>`QQ`</center></td>\n",
    "        <td><center>Το σώμα των ρητών αριθμών $\\mathbb{Q}$.</center></td>\n",
    "    </tr>\n",
    "    <tr>\n",
    "        <td><center>`RealField()` ή `Reals()`</center></td>\n",
    "        <td><center>`RR`</center></td>\n",
    "        <td><center>Το σώμα των πραγματικών αριθμών $\\mathbb{R}$ (η εξ ορισμού ακρίβεια είναι 53 bits).</center></td>\n",
    "    </tr>\n",
    "    <tr>\n",
    "        <td><center>`ComplexField()` ή `Complexes()`</center></td>\n",
    "        <td><center>`CC`</center></td>\n",
    "        <td><center>Το σώμα των μιγαδικών αριθμών $\\mathbb{C}$ (η εξ ορισμού ακρίβεια είναι 53 bits).</center></td>\n",
    "    </tr>\n",
    "    <tr>\n",
    "        <td><center>`SymbolicRing()`</center></td>\n",
    "        <td><center>`SR`</center></td>\n",
    "        <td><center>Ο συμβολικός δακτύλιος.</center></td>\n",
    "    </tr>\n",
    "    <tr>\n",
    "        <td><center>`Integers(n)` ή `IntegerModRing(n)`</center></td>\n",
    "        <td><center>-</center></td>\n",
    "        <td><center>Ο δακτύλιος $\\mathbb{Z}_n$ των κλάσεων υπολοίπων modulo $n$.</center></td>\n",
    "    </tr>\n",
    "    <tr>\n",
    "        <td><center>`FiniteField(p)`</center></td>\n",
    "        <td><center>`GF(p)`</center></td>\n",
    "        <td><center>Το πεπερασμένο σώμα Galois $GF(p)$ τάξης $p$, όπου $p$: πρώτος.</center></td>\n",
    "    </tr>\n",
    "</table>\n",
    "\n",
    "<ul>\n",
    "    <li>Η δεύτερη παράμετρος είναι μια λίστα με τα στοιχεία του διανύσματος.</li>\n",
    "</ul>"
   ]
  },
  {
   "cell_type": "markdown",
   "metadata": {},
   "source": [
    "Ο βαθμός ενός διανύσματος (δηλαδή το πόσες συνιστώσες έχει), μπορεί να ανακτηθεί με τη μέθοδο `degree` της κλάσης `vector`."
   ]
  },
  {
   "cell_type": "code",
   "execution_count": null,
   "metadata": {},
   "outputs": [],
   "source": [
    "v = vector(QQ, [2/3, -1/3, 1/2]) \n",
    "v.degree()"
   ]
  },
  {
   "cell_type": "markdown",
   "metadata": {},
   "source": [
    "Για να ανακτήσουμε τον δακτύλιο που έχουμε δηλώσει για ένα διάνυσμα, χρησιμοποιούμε τη μέθοδο `base_ring` της κλάσης `vector`. Έτσι, για το παραπάνω διάνυσμα, θα είναι:"
   ]
  },
  {
   "cell_type": "code",
   "execution_count": null,
   "metadata": {},
   "outputs": [],
   "source": [
    "v.base_ring()"
   ]
  },
  {
   "cell_type": "markdown",
   "metadata": {},
   "source": [
    "<b>Σημείωση:</b> Το SageMath δεν κάνει διάκριση ανάμεσα σε διανύσματα γραμμές ή διανύσματα στήλες. Ωστόσο, κατά την εκτύπωση εμφανίζονται μέσα σε παρενθέσεις και όχι σε αγκύλες όπως οι πίνακες-γραμμές.\n",
    "\n",
    "<b>Σημείωση:</b> Για να δημιουργήσουμε το μηδενικό διάνυσμα, μπορούμε να χρησιμοποιήσουμε τη συνάρτηση `zero_vector` και δίνοντας ως παραμέτρους τον δακτύλιο από τον οποίο προέρχονται τα στοιχεία του και το βαθμό του διανύσματος (δηλ. πόσες συνιστώσες έχει). Για παράδειγμα, αν θέλουμε να δημιουργήσουμε το μηδενικό διάνυσμα του $\\mathbb{R}^3$, θα γράψουμε:"
   ]
  },
  {
   "cell_type": "code",
   "execution_count": null,
   "metadata": {},
   "outputs": [],
   "source": [
    "zero_vector(RR, 3)"
   ]
  },
  {
   "cell_type": "markdown",
   "metadata": {},
   "source": [
    "### Εσωτερικό γινόμενο διανυσμάτων\n",
    "Αν $u = \\left[ u_1, u_2, \\ldots, u_n \\right]$ και $v = \\left[ v_1, v_2, \\ldots, v_n \\right]$ είναι δύο διανύσματα του $\\mathbb{R}^n$, τότε το εσωτερικό τους γινόμενο ορίζεται ως ο αριθμός:\n",
    "$$ u \\cdot v = \\sum_{i=1}^{n} u_i v_i $$\n",
    "Το εσωτερικό γινόμενο δύο διανυσμάτων μπορεί να υπολογιστεί είτε με τον τελεστή `*`, είτε με τη μεθοδο `inner_product` της κλάσης `vector`."
   ]
  },
  {
   "cell_type": "code",
   "execution_count": null,
   "metadata": {},
   "outputs": [],
   "source": [
    "x = vector(RR, [1, 3, -5])    # Ένα διάνυσμα του R^3\n",
    "y = vector(RR, [4, -2, -1])   # Ένα διάνυσμα του R^3\n",
    "\n",
    "print (\"Το εσωτερικό γινόμενο των x και y είναι:\", x * y)   # ή x.inner_product(y)"
   ]
  },
  {
   "cell_type": "markdown",
   "metadata": {},
   "source": [
    "<b>Άσκηση:</b> Γράψτε μια συνάρτηση `inner_product` που θα δέχεται ως παραμέτρους δύο διανύσματα `u` και `v`, θα υπολογίζει και θα επιστρέφει το εσωτερικό τους γινόμενο. Εάν οι βαθμοί τους δε συμπίπτουν, θα εμφανίζει σχετικό μήνυμα σφάλματος και θα επιστρέφει την τιμή `None`."
   ]
  },
  {
   "cell_type": "markdown",
   "metadata": {},
   "source": [
    "### Μέτρο διανύσματος\n",
    "Το μέτρο ενός διανύσματος $v$ ορίζεται ως:\n",
    "$$\\|v\\| = \\sqrt{\\sum_{i=1}^{n} v_{i}^{2}} $$\n",
    "και μπορεί να βρεθεί στο SageMath με τη μέθοδο `norm()` της κλάσης `vector`."
   ]
  },
  {
   "cell_type": "code",
   "execution_count": null,
   "metadata": {},
   "outputs": [],
   "source": [
    "v = vector(RR, [1, 3, -5])     # Ένα διάνυσμα του R^3\n",
    "print( v.norm() )              # Το μέτρο (ή μήκος) του διανύσματος"
   ]
  },
  {
   "cell_type": "markdown",
   "metadata": {},
   "source": [
    "<b>Άσκηση:</b> Γράψτε μια συνάρτηση `norm` που θα δέχεται ως παράμετρο ένα διάνυσμα `v`, θα υπολογίζει και θα επιστρέφει το μέτρο του. Για την τετραγωνική ρίζα ενός αριθμού, χρησιμοποιήστε τη συνάρτηση `sqrt` του SageMath."
   ]
  },
  {
   "cell_type": "markdown",
   "metadata": {},
   "source": [
    "#### Σύγκριση διανυσμάτων\n",
    "Οι συγκριτικοί τελεστές `==` και `!=` είναι υπερφορτωμένοι και μπορούν να χρησιμοποιηθούν για να ελέγχουμε αν δύο διανύσματα είναι ίσα ή άνισα:"
   ]
  },
  {
   "cell_type": "code",
   "execution_count": null,
   "metadata": {},
   "outputs": [],
   "source": [
    "u = vector(QQ, [1, 2, 3])\n",
    "v = vector(QQ, [4, 5, 6])\n",
    "w = vector(QQ, [1, 2, 3])\n",
    "\n",
    "print(u == v)  # False\n",
    "print(u == w)  # True\n",
    "print(u != v)  # True\n",
    "print(u != w)  # False"
   ]
  },
  {
   "cell_type": "markdown",
   "metadata": {},
   "source": [
    "Παρατηρήστε ότι το SageMath μας λέει ότι τα `u` και `w` είναι ίσα ως διανύσματα, ενώ στην πραγματικότητα πρόκειται για διαφορετικά αντικείμενα τύπου `vector`:"
   ]
  },
  {
   "cell_type": "code",
   "execution_count": null,
   "metadata": {},
   "outputs": [],
   "source": [
    "id(u), id(v), id(w)"
   ]
  },
  {
   "cell_type": "markdown",
   "metadata": {
    "collapsed": true
   },
   "source": [
    "#### Προσπέλαση των συνιστωσών ενός διανύσματος\n",
    "\n",
    "Τα διανύσματα είναι μονοδιάστατες παρατάξεις. Επομένως, για να προσπελάσουμε τα στοιχεία (ή συνιστώσες) ενός πίνακα, χρησιμοποιούμε έναν αριθμοδείκτη που προσδιορίζει τη θέση του στοιχείου που θέλουμε. Θυμίζουμε ότι όπως και στην περίπτωση των λιστών, η δεικτοδότηση ξεκινά από το 0 και όχι από το 1."
   ]
  },
  {
   "cell_type": "code",
   "execution_count": null,
   "metadata": {},
   "outputs": [],
   "source": [
    "u = vector(ZZ, [1,2,3,4,5,6])\n",
    "print(u)   # Εκτύπωση του διανύσματος\n",
    "print(u[0], u[1], u[2], u[3], u[4], u[5])   # Εκτύπωση των συνιστωσών του διανύσματος μία-προς-μία"
   ]
  },
  {
   "cell_type": "markdown",
   "metadata": {},
   "source": [
    "Η χρήση αρνητικών αριθμοδεικτών επιτρέπει στην προσπέλαση των στοιχείων ενός διανύσματος από το τέλος προς την αρχή:"
   ]
  },
  {
   "cell_type": "code",
   "execution_count": null,
   "metadata": {},
   "outputs": [],
   "source": [
    "print(u[-1], u[-2], u[-3], u[-4], u[-5], u[-6])   # Εκτύπωση των συνιστωσών του διανύσματος μία-προς-μία ανάποδα"
   ]
  },
  {
   "cell_type": "markdown",
   "metadata": {},
   "source": [
    "<b>Σημείωση:</b> Όσα έχουμε πει περί τεμαχισμού λιστών εξακολουθούν να ισχύουν και για διανύσματα."
   ]
  },
  {
   "cell_type": "markdown",
   "metadata": {
    "collapsed": true
   },
   "source": [
    "### Πράξεις διανυσμάτων"
   ]
  },
  {
   "cell_type": "markdown",
   "metadata": {
    "collapsed": true
   },
   "source": [
    "#### Πρόσθεση και Αφαίρεση διανυσμάτων\n",
    "Οι αριθμητικοί τελεστές `+` και `-` είναι υπερφορτωμένοι για διανύσματα και υπολογίζουν το άθροισμα κατά συνιστώσα και τη διαφορά κατά συνιστώσα."
   ]
  },
  {
   "cell_type": "code",
   "execution_count": null,
   "metadata": {},
   "outputs": [],
   "source": [
    "u = vector(ZZ, [1, 2, 3])\n",
    "print(\"u =\", u)\n",
    "v = vector(QQ, [1, 1/2, 1/3])   # Συμβολικός πίνακας\n",
    "print(\"v =\", v)\n",
    "w = u + v\n",
    "print(\"w =\", w)"
   ]
  },
  {
   "cell_type": "markdown",
   "metadata": {
    "collapsed": true
   },
   "source": [
    "Παρατηρήστε πως ο δακτύλιος των συνιστωσών του `w` είναι ο `QQ` αφού αυτός είναι υπερσύνολο του `ZZ`."
   ]
  },
  {
   "cell_type": "markdown",
   "metadata": {},
   "source": [
    "#### Βαθμωτό γινόμενο\n",
    "Ο τελεστής `*` όταν χρησιμοποιείται μεταξύ διανυσμάτων ερμηνεύεται ως το εσωτερικό τους γινόμενο από το SageMath. Εάν όμως χρησιμοποιηθεί μεταξύ μιας βαθμωτής ποσότητας (πχ: ενός αριθμού) και ενός διανύσματος, τότε ερμηνεύεται ως το βαθμωτό τους γινόμενο.\n",
    "$$\n",
    "c \\cdot v = c \\cdot \\left[\n",
    "    \\begin{array}{c}\n",
    "    v_1, & v_2, & \\cdots, & v_n\n",
    "    \\end{array}\n",
    "\\right] = \\left[\n",
    "    \\begin{array}{c}\n",
    "    c v_1, &  c v_2, & \\cdots, &  c v_n\n",
    "    \\end{array}\n",
    "\\right]\n",
    "$$"
   ]
  },
  {
   "cell_type": "code",
   "execution_count": null,
   "metadata": {},
   "outputs": [],
   "source": [
    "v = vector(ZZ, [1,2,3,4,5,6])\n",
    "c = 10\n",
    "\n",
    "print(\"v =\", v)\n",
    "print(\"c * v =\", c * v)"
   ]
  },
  {
   "cell_type": "markdown",
   "metadata": {},
   "source": [
    "## Πίνακες"
   ]
  },
  {
   "cell_type": "markdown",
   "metadata": {},
   "source": [
    "Για να δημιουργήσουμε πίνακες στο SageMath, χρησιμοποιούμε την κλάση `matrix`:"
   ]
  },
  {
   "cell_type": "code",
   "execution_count": null,
   "metadata": {},
   "outputs": [],
   "source": [
    "# Δημιουργία ενός 2x3 πίνακα με στοιχεία ακεραίους\n",
    "A = matrix(ZZ, 2, 3, [1,2,3,4,5,6])\n",
    "\n",
    "print(A)"
   ]
  },
  {
   "cell_type": "markdown",
   "metadata": {},
   "source": [
    "<b>Σημείωση:</b> Μπορούμε να εμφανίζουμε τους πίνακες με μορφοποίηση LaTeX με τη συνάρτηση `show`:"
   ]
  },
  {
   "cell_type": "code",
   "execution_count": null,
   "metadata": {},
   "outputs": [],
   "source": [
    "show(A)"
   ]
  },
  {
   "cell_type": "markdown",
   "metadata": {},
   "source": [
    "Ας δούμε πιο αναλυτικά το παραπάνω παράδειγμα."
   ]
  },
  {
   "cell_type": "markdown",
   "metadata": {},
   "source": [
    "<ul>\n",
    "    <li>Η πρώτη παράμετρος (`ring`) που δίνουμε στον κατασκευαστή της κλάσης `matrix` είναι ο δακτύλιος (ή το σώμα) από τον οποίο προέρχονται τα στοιχεία του πίνακα."
   ]
  },
  {
   "cell_type": "markdown",
   "metadata": {},
   "source": [
    "<ul>\n",
    "    <li>Η δεύτερη παράμετρος (`nrows`) καθορίζει το πλήθος των γραμμών του πίνακα.</li>\n",
    "</ul>"
   ]
  },
  {
   "cell_type": "markdown",
   "metadata": {},
   "source": [
    "<ul>\n",
    "    <li>Ομοίως, η τρίτη παράμετρος (`ncols`) καθορίζει το πλήθος των στηλών του πίνακα.</li>\n",
    "</ul>"
   ]
  },
  {
   "cell_type": "markdown",
   "metadata": {},
   "source": [
    "<ul>\n",
    "    <li>Τέλος, δίνουμε στον κατασκευαστή τα στοιχεία του πίνακα ως μια μορφή ακολουθίας (στο παράδειγμα χρησιμοποιήσαμε μια λίστα).</li>\n",
    "</ul>"
   ]
  },
  {
   "cell_type": "markdown",
   "metadata": {},
   "source": [
    "Ένας πίνακας με ρητούς αριθμούς:"
   ]
  },
  {
   "cell_type": "code",
   "execution_count": null,
   "metadata": {},
   "outputs": [],
   "source": [
    "C = matrix(QQ, 2, 2, [1/3, 1, 0.5, -1/3])\n",
    "C"
   ]
  },
  {
   "cell_type": "markdown",
   "metadata": {},
   "source": [
    "Παρατηρήστε πως το 1 είναι ένας ακέραιος αριθμός (δηλ. στοιχείο του `ZZ`). Ωστόσο, το SageMath το προάγει σε ρητό προκειμένου να το εισάγει στον πίνακα (δηλ. στοιχείο του `QQ`). Παρατηρήστε επίσης πως το 0.5 μετατράπηκε από πραγματικός αριθμός κινητής υποδιαστολής (δηλ. στοιχείο του `RR`) σε ρητός."
   ]
  },
  {
   "cell_type": "markdown",
   "metadata": {},
   "source": [
    "### Σύγκριση πινάκων\n",
    "Οι συγκριτικοί τελεστές `==` και `!=` είναι υπερφορτωμένοι για πίνακες:"
   ]
  },
  {
   "cell_type": "code",
   "execution_count": null,
   "metadata": {},
   "outputs": [],
   "source": [
    "B = matrix(ZZ, 2, 2, [1, 2, 3, 4])\n",
    "C = matrix(ZZ, 2, 2, [1, 1, 1, 1])\n",
    "show(B)\n",
    "show(C)\n",
    "print(B == C)\n",
    "print(B != C)"
   ]
  },
  {
   "cell_type": "markdown",
   "metadata": {},
   "source": [
    "### Ανάκτηση των διαστάσεων ενός πίνακα\n",
    "Για έναν πίνακα, μπορούμε να ανακτήσουμε το πλήθος των γραμμών και των στηλών του (δηλ. τις διαστάσεις του)."
   ]
  },
  {
   "cell_type": "code",
   "execution_count": null,
   "metadata": {},
   "outputs": [],
   "source": [
    "A = matrix(ZZ, 2, 3, [1,2,3,4,5,6])\n",
    "print( A.nrows() )  # Πλήθος γραμμών\n",
    "print( A.ncols() )  # Πλήθος στηλών"
   ]
  },
  {
   "cell_type": "markdown",
   "metadata": {},
   "source": [
    "ή απευθείας το μέγεθός του (ως πλειάδα):"
   ]
  },
  {
   "cell_type": "code",
   "execution_count": null,
   "metadata": {},
   "outputs": [],
   "source": [
    "A = matrix(ZZ, 2, 3, [1,2,3,4,5,6])\n",
    "print( A.dimensions() )"
   ]
  },
  {
   "cell_type": "markdown",
   "metadata": {},
   "source": [
    "### Προσπέλαση τμημάτων ενός πίνακα\n",
    "Οι πίνακες δυο διαστάσεων ονομάζονται μητρώα ή μήτρες και αποτελούν ορθογώνιες διατάξεις στοιχείων. Επομένως, για να προσπελάσουμε τα στοιχεία ενός πίνακα (μήτρα), χρησιμοποιούμε τις \"συντεταγμένες\" του στοιχείου που θέλουμε. Θυμίζουμε ότι η δεικτοδότηση ξεκινά από το 0 και όχι από το 1."
   ]
  },
  {
   "cell_type": "code",
   "execution_count": null,
   "metadata": {},
   "outputs": [],
   "source": [
    "A = matrix(ZZ, 2, 3, [1,2,3,4,5,6])\n",
    "show(A)\n",
    "print( A[0, 1] )   # Το στοιχείο στη διασταύρωση της 1ης γραμμής με τη δεύτερη στήλη.\n",
    "print( A[0][1] )   # Μπορεί να ανακτηθεί και έτσι."
   ]
  },
  {
   "cell_type": "markdown",
   "metadata": {},
   "source": [
    "Αν χρησιμοποιήσουμε μόνο έναν δείκτη, ανακτούμε την αντίστοιχη γραμμή του πίνακα:"
   ]
  },
  {
   "cell_type": "code",
   "execution_count": null,
   "metadata": {},
   "outputs": [],
   "source": [
    "A = matrix(ZZ, 2, 3, [1,2,3,4,5,6])\n",
    "show(A)\n",
    "print(\"Η 1η γραμμή είναι:\", A[0])\n",
    "print(\"Η 2η γραμμή είναι:\", A[1])"
   ]
  },
  {
   "cell_type": "markdown",
   "metadata": {},
   "source": [
    "Μπορούμε να ανακτήσουμε όλες τις γραμμές ενός πίνακα ως στοιχεία μιας λίστας με τη μέθοδο `rows()` (και τις στήλες με τη μέθοδο `columns()`)."
   ]
  },
  {
   "cell_type": "code",
   "execution_count": null,
   "metadata": {},
   "outputs": [],
   "source": [
    "A = matrix(ZZ, 2, 3, [1,2,3,4,5,6])\n",
    "show(A)\n",
    "print( \"Οι γραμμές του πίνακα A είναι:\", A.rows() )\n",
    "print( \"Οι στήλες του πίνακα A είναι:\", A.columns() )"
   ]
  },
  {
   "cell_type": "markdown",
   "metadata": {},
   "source": [
    "Αν θέλουμε μεμονωμένες γραμμές/στήλες του πίνακα, χρησιμοποιούμε τις μεθόδους `row()`/`column()` αντίστοιχα με τον κατάλληλο δείκτη ως όρισμα."
   ]
  },
  {
   "cell_type": "code",
   "execution_count": null,
   "metadata": {},
   "outputs": [],
   "source": [
    "A = matrix(ZZ, 2, 3, [1,2,3,4,5,6])\n",
    "show(A)\n",
    "print(\"Η 1η γραμμή του πίνακα A είναι:\")\n",
    "show(A.row(0))\n",
    "print(\"Η 2η γραμμή του πίνακα A είναι:\")\n",
    "show(A.row(1))\n",
    "print(\"Η 1η στήλη του πίνακα A είναι:\")\n",
    "show(A.column(0))\n",
    "print(\"Η 2η στήλη του πίνακα A είναι:\")\n",
    "show(A.column(1))\n",
    "print(\"Η 3η στήλη του πίνακα A είναι:\")\n",
    "show(A.column(2))"
   ]
  }
 ],
 "metadata": {
  "kernelspec": {
   "display_name": "SageMath 9.5",
   "language": "sage",
   "name": "sagemath"
  },
  "language_info": {
   "codemirror_mode": {
    "name": "ipython",
    "version": 3
   },
   "file_extension": ".py",
   "mimetype": "text/x-python",
   "name": "python",
   "nbconvert_exporter": "python",
   "pygments_lexer": "ipython3",
   "version": "3.10.12"
  }
 },
 "nbformat": 4,
 "nbformat_minor": 1
}
