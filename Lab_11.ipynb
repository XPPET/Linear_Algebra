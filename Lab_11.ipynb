{
 "cells": [
  {
   "cell_type": "markdown",
   "metadata": {},
   "source": [
    "# Εργαστήριο 11ο: Διαδικασία Gram-Schmidt & Ιδιοτιμές"
   ]
  },
  {
   "cell_type": "markdown",
   "metadata": {},
   "source": [
    "## Ορθογωνιότητα"
   ]
  },
  {
   "cell_type": "markdown",
   "metadata": {
    "collapsed": true
   },
   "source": [
    "<b>Ορισμός:</b> Δύο μη-μηδενικά διανύσματα $u$ και $v$ του $\\mathbb{R}^n$ λέγονται ορθογώνια (ή κάθετα) αν η γωνία που σχηματίζουν είναι ορθή."
   ]
  },
  {
   "cell_type": "markdown",
   "metadata": {},
   "source": [
    "Για να δηλώσουμε ότι τα $u$ και $v$ είναι ορθογώνια, χρησιμοποιούμε τη σημειολογία: $u \\perp v$."
   ]
  },
  {
   "cell_type": "markdown",
   "metadata": {},
   "source": [
    "Η γωνία $\\phi$ των διανυσμάτων $u$ και $v$ δίνεται από τον τύπο:\n",
    "\n",
    "$$\n",
    "\\cos\\phi = \\frac{u \\cdot v}{\\Vert u \\Vert\\Vert v \\Vert}\n",
    "$$"
   ]
  },
  {
   "cell_type": "markdown",
   "metadata": {},
   "source": [
    "<b>Σημείωση:</b> Ο αριθμητής είναι εσωτερικό γινόμενο διανυσμάτων, ενώ ο παρονομαστής γινόμενο αριθμών."
   ]
  },
  {
   "cell_type": "markdown",
   "metadata": {},
   "source": [
    "<b>Παράδειγμα:</b> Θεωρούμε τα διανύσματα $x = (2, 5)$, $y = (6, 5)$ στον Ευκλείδειο χώρο $\\mathbb{R}^2$."
   ]
  },
  {
   "cell_type": "code",
   "execution_count": 12,
   "metadata": {},
   "outputs": [
    {
     "name": "stdout",
     "output_type": "stream",
     "text": [
      "Το εσωτερικό γινόμενο των x και y είναι: 37.0000000000000\n",
      "Η γωνία των x και y είναι: 0.495551673485828\n"
     ]
    }
   ],
   "source": [
    "x = vector(RR, [2, 5])\n",
    "y = vector(RR, [6, 5])\n",
    "\n",
    "print (\"Το εσωτερικό γινόμενο των x και y είναι:\", x * y)   # ή x.inner_product(y)\n",
    "print (\"Η γωνία των x και y είναι:\", arccos((x*y)/(x.norm()*y.norm())))"
   ]
  },
  {
   "cell_type": "markdown",
   "metadata": {},
   "source": [
    "Με τη βοήθεια του SageMath μπορούμε να σχεδιάσουμε τα διανύσματα στο επίπεδο (ή το χώρο στην περίπτωση του $\\mathbb{R}^3$):"
   ]
  },
  {
   "cell_type": "code",
   "execution_count": 13,
   "metadata": {},
   "outputs": [
    {
     "data": {
      "image/png": "[encoded data removed]",
      "text/plain": [
       "Graphics object consisting of 6 graphics primitives"
      ]
     },
     "metadata": {},
     "output_type": "display_data"
    }
   ],
   "source": [
    "# Αγνοήστε τη σημασία αυτού του κελιού\n",
    "x = vector(RR, [2, 5])\n",
    "y = vector(RR, [6, 5])\n",
    "e1 = vector(QQ, [1, 0])\n",
    "\n",
    "p = plot(x, axes=False, color='black') + plot(y, axes=False, color='black') \\\n",
    "    + arc((0,0), 1.0, sector=(arccos(e1*y/(y.norm())), arccos(e1*x/(x.norm()))), color='blue') \\\n",
    "    + text(\"$x$\",(2-0.4,5), fontsize='large') + text(\"$y$\",(6+0.4,5), fontsize='large') \\\n",
    "    + text(\"$\\\\phi$\",(0.7,1.0), fontsize='large')\n",
    "\n",
    "show(p, figsize=[4,4], title='Angle between vectors $x$ and $y$')"
   ]
  },
  {
   "cell_type": "markdown",
   "metadata": {},
   "source": [
    "<b>Παρατήρηση:</b> Επομένως, με βάση τον τύπο της γωνίας διανυσμάτων, μπορούμε να πούμε ισοδύναμα πως δύο διανύσματα είναι ορθογώνια αν-ν $u \\cdot v = 0$."
   ]
  },
  {
   "cell_type": "markdown",
   "metadata": {},
   "source": [
    "<b>Ορισμός:</b> Ένα σύνολο διανυσμάτων $\\{v_1, v_2, \\ldots, v_n\\}$ λέγεται ορθογώνιο (orthogonal) αν τα διανύσματα είναι ανά δύο ορθογώνια, δηλ. εάν $v_i \\cdot v_j = 0, \\forall i \\neq j$. Εάν επιπλέον όλα τα διανύσματα έχουν μήκος ίσο με ένα, δηλ. $\\Vert v_i \\Vert = 1, \\forall i=1,2,\\ldots,n$, τότε λέγονται ορθοκανονικά (orthonormal)."
   ]
  },
  {
   "cell_type": "markdown",
   "metadata": {},
   "source": [
    "<b>Παρατήρηση:</b> Εάν $v$ είναι ένα μη-μηδενικό διάνυσμα, τότε το διάνυσμα $\\frac{v}{\\Vert v \\Vert}$ έχει μέτρο ίσο με ένα."
   ]
  },
  {
   "cell_type": "markdown",
   "metadata": {},
   "source": [
    "Το μέτρο ενός διανύσματος μπορεί να βρεθεί στο SageMath με τη μέθοδο `norm()` της κλάσης `vector`. Επιπλέον, για κάθε διάνυσμα, η μέθοδος `normalized()` της κλάσης `vector` επιστρέφει το αντίστοιχο κανονικοποιημένο διάνυσμα."
   ]
  },
  {
   "cell_type": "code",
   "execution_count": 14,
   "metadata": {},
   "outputs": [
    {
     "name": "stdout",
     "output_type": "stream",
     "text": [
      "2.00000000000000\n",
      "(0.500000000000000, 0.500000000000000, 0.500000000000000, 0.500000000000000)\n"
     ]
    }
   ],
   "source": [
    "u = vector(RR, [1, 1, 1, 1])   # Ένα διάνυσμα του R^4\n",
    "print (u.norm() )                # Το μέτρο (ή μήκος) του διανύσματος\n",
    "print (u.normalized())           # Το κανονικοποιημένο διάνυσμα"
   ]
  },
  {
   "cell_type": "markdown",
   "metadata": {
    "collapsed": true
   },
   "source": [
    "<b>Πρόταση:</b> Ένα σύνολο ορθογωνίων διανυσμάτων $\\{v_1, v_2, \\ldots, v_n\\}$ είναι γραμμικά ανεξάρτητο."
   ]
  },
  {
   "cell_type": "code",
   "execution_count": 15,
   "metadata": {},
   "outputs": [
    {
     "name": "stdout",
     "output_type": "stream",
     "text": [
      "0 0 0\n"
     ]
    },
    {
     "data": {
      "text/html": [
       "<html><script type=\"math/tex; mode=display\">\\newcommand{\\Bold}[1]{\\mathbf{#1}}\\left(\\begin{array}{rrr}\n",
       "1 & 2 & 3 \\\\\n",
       "\\frac{8}{7} & \\frac{2}{7} & -\\frac{4}{7} \\\\\n",
       "-\\frac{1}{3} & \\frac{2}{3} & -\\frac{1}{3}\n",
       "\\end{array}\\right)</script></html>"
      ],
      "text/plain": [
       "[   1    2    3]\n",
       "[ 8/7  2/7 -4/7]\n",
       "[-1/3  2/3 -1/3]"
      ]
     },
     "metadata": {},
     "output_type": "display_data"
    },
    {
     "name": "stdout",
     "output_type": "stream",
     "text": [
      "Η βαθμίδα του V είναι: 3\n"
     ]
    }
   ],
   "source": [
    "v1 = vector(QQ, [1, 2, 3])\n",
    "v2 = vector(QQ, [8/7, 2/7, -4/7])\n",
    "v3 = vector(QQ, [-1/3, 2/3, -1/3])\n",
    "\n",
    "print (v1*v2, v2*v3, v1*v3)   # Η βάση είναι ορθογώνια\n",
    "\n",
    "V = matrix([v1, v2, v3])   # Σχηματίζουμε τον πίνακα που έχει τα v1, v2 και v3 ως γραμμές\n",
    "show(V)\n",
    "print (\"Η βαθμίδα του V είναι:\", rank(V))\n",
    "#print \"Η ορίζουσα του V είναι:\", det(V)"
   ]
  },
  {
   "cell_type": "markdown",
   "metadata": {},
   "source": [
    "Αφού η βαθμίδα του πίνακα $V$ είναι 3, δηλ. όσο η διάσταση του χώρου $\\mathbb{R}^3$ μέσα στον οποίο έχουμε θεωρήσει τα διανύσματα $v_1, v_2, v_3$, αυτά είναι γραμμικά ανεξάρτητα. Εναλλακτικά, θα μπορούσαμε να ελέγξουμε την ορίζουσα του $V$. Αφού είναι μη-μηδενική (4 για την ακρίβεια), αυτό συνεπάγεται πως η βαθμίδα του $V$ είναι 3 και άρα τα $v_1, v_2, v_3$ είναι γραμμικά ανεξάρτητα."
   ]
  },
  {
   "cell_type": "markdown",
   "metadata": {
    "collapsed": true
   },
   "source": [
    "<b>Πρόταση:</b> Αν $\\{v_1, v_2, \\ldots, v_n\\}$ είναι μια βάση του $\\mathbb{R}^n$ και $v \\in \\mathbb{R}^n$, τότε προφανώς ισχύει ότι: $v = \\lambda_1 v_1 + \\lambda_2 v_2 + \\ldots + \\lambda_n v_n$. Οι συντελεστές $\\lambda_i$ θα δίνονται από τους τύπους:\n",
    "<ul>\n",
    "    <li>$\\lambda_i = \\frac{v \\cdot v_i}{\\Vert v_i \\Vert^2}$, εάν η βάση είναι ορθογώνια.</li>\n",
    "    <li>$\\lambda_i = v \\cdot v_i$, εάν η βάση είναι ορθοκανονική.</li>\n",
    "</ul>"
   ]
  },
  {
   "cell_type": "code",
   "execution_count": 16,
   "metadata": {},
   "outputs": [
    {
     "name": "stdout",
     "output_type": "stream",
     "text": [
      "v1*v2 = 0 , v2*v3 = 0 , v1*v3 = 0\n"
     ]
    },
    {
     "data": {
      "text/html": [
       "<html><script type=\"math/tex; mode=display\">\\newcommand{\\Bold}[1]{\\mathbf{#1}}\\left(\\frac{331945990}{418926893},\\,\\frac{6062869}{1166046879},\\,\\frac{111873867}{113848894}\\right)</script></html>"
      ],
      "text/plain": [
       "(331945990/418926893, 6062869/1166046879, 111873867/113848894)"
      ]
     },
     "metadata": {},
     "output_type": "display_data"
    },
    {
     "name": "stdout",
     "output_type": "stream",
     "text": [
      "True\n"
     ]
    }
   ],
   "source": [
    "v1 = vector(QQ, [1, 2, 3])\n",
    "v2 = vector(QQ, [8/7, 2/7, -4/7])\n",
    "v3 = vector(QQ, [-1/3, 2/3, -1/3])\n",
    "\n",
    "print (\"v1*v2 =\", v1*v2, \", v2*v3 =\", v2*v3, \", v1*v3 =\", v1*v3)   # Η βάση είναι ορθογώνια\n",
    "\n",
    "import numpy\n",
    "v = vector(QQ, numpy.random.random(3))   # Ένα τυχαίο τριδιάστατο διάνυσμα\n",
    "show(v)\n",
    "\n",
    "# Υπολογισμός των συντελεστών\n",
    "l1 = v*v1/(v1.norm()^2)\n",
    "l2 = v*v2/(v2.norm()^2)\n",
    "l3 = v*v3/(v3.norm()^2)\n",
    "\n",
    "# Επαλήθευση\n",
    "print (l1*v1 + l2*v2 + l3*v3 == v)"
   ]
  },
  {
   "cell_type": "markdown",
   "metadata": {
    "collapsed": true
   },
   "source": [
    "<b>Ορισμός:</b> Ένας πίνακας $A$ λέγεται ορθογώνιος αν είναι τετράγωνος και επιπλέον $A^T = A^{-1}$. Δηλαδή ένας ορθογώνιος πίνακας έχει ορθοκανονικές στήλες."
   ]
  },
  {
   "cell_type": "markdown",
   "metadata": {},
   "source": [
    "<b>Θεώρημα:</b> Το γινόμενο ορθογωνίων πινάκων είναι επίσης ορθογώνιος πίνακας."
   ]
  },
  {
   "cell_type": "code",
   "execution_count": 18,
   "metadata": {},
   "outputs": [
    {
     "name": "stdout",
     "output_type": "stream",
     "text": [
      "Is A orthogonal? True\n",
      "Is B orthogonal? True\n",
      "Is C orthogonal? True\n"
     ]
    }
   ],
   "source": [
    "A = matrix(QQ, 4, 4, [0,0,0,1, 0,0,1,0, 1,0,0,0, 0,1,0,0])\n",
    "print (\"Is A orthogonal?\", A.T == A^-1)\n",
    "B = matrix(QQ, 4, 4, [1,0,0,0, 0,0,0,1, 0,1,0,0, 0,0,1,0])\n",
    "print (\"Is B orthogonal?\", B.T == B^-1)\n",
    "C = A * B\n",
    "print (\"Is C orthogonal?\", C.T == C^-1)"
   ]
  },
  {
   "cell_type": "markdown",
   "metadata": {},
   "source": [
    "## Η Διαδικασία Gram-Schmidt"
   ]
  },
  {
   "cell_type": "markdown",
   "metadata": {},
   "source": [
    "<b>Στόχος:</b> Έστω ότι γνωρίζουμε μια τυχούσα βάση $\\{x_1, x_2, \\ldots, x_n\\}$ του Ευκλείδειου χώρου $\\mathbb{R}^n$. Θέλουμε να βρούμε:\n",
    "<ul>\n",
    "    <li>Μια ορθογώνια βάση $\\{y_1, y_2, \\ldots, y_n\\}$ του $\\mathbb{R}^n$.</li>\n",
    "    <li>Μια ορθοκανονική βάση $\\{z_1, z_2, \\ldots, z_n\\}$ του $\\mathbb{R}^n$.</li>\n",
    "</ul>\n",
    "\n",
    "Απάντηση στο πρόβλημα δίνει η διαδικασία ορθογωνιοποίησης των Gram-Schmidt (Gram-Schmidt Orthogonalization ή GSO για συντομία) που μας παρέχει έναν τρόπο με τον οποίο μπορούμε να κατασκευάσουμε μια τέτοια βάση δοθείσας μιας οποιασδήποτε βάσης του $\\mathbb{R}^n$."
   ]
  },
  {
   "cell_type": "markdown",
   "metadata": {},
   "source": [
    "<b>Σημείωση:</b> Εάν θέλουμε το SageMath να μας επιστρέψει ορθοκανονική βάση, χρησιμοποιούμε την παράμετρο `orthonormal` με τη λογική τιμή `True` (η εξ ορισμού τιμή της είναι `False`)."
   ]
  },
  {
   "cell_type": "code",
   "execution_count": 19,
   "metadata": {},
   "outputs": [
    {
     "data": {
      "text/plain": [
       "(\n",
       "[-0.2672612419124243 -0.5345224838248488 -0.8017837257372732]\n",
       "[ 0.8728715609439698 0.21821789023599247 -0.4364357804719846]\n",
       "[ 0.4082482904638632  -0.816496580927726   0.408248290463863],\n",
       "\n",
       "[-3.7416573867739413                 0.0                 0.0]\n",
       "[  0.534522483824849   1.309307341415954                 0.0]\n",
       "[-2.9398736610366685 -1.0910894511799616 0.40824829046386313]\n",
       ")"
      ]
     },
     "execution_count": 19,
     "metadata": {},
     "output_type": "execute_result"
    }
   ],
   "source": [
    "B = matrix(RDF, 3, 3, [1, 2, 3, 1, 0, -1, 0, 1, 3])   # RDF = Real Double Field όπως το RR, αλλά με ακρίβεια double.\n",
    "B.gram_schmidt(orthonormal=True)"
   ]
  },
  {
   "cell_type": "markdown",
   "metadata": {},
   "source": [
    "Το επιστρεφόμενο αποτέλεσμα είναι μια πλειάδα με δύο στοιχεία. Το 1ο είναι η ορθογωνιοποιημένη βάση που προκύπτει από τη διαδικασία Gram-Schmidt. Το 2ο αποτέλεσμα είναι ένας κάτω τριγωνικός πίνακας που περιέχει τους συντελεστές προβολής."
   ]
  },
  {
   "cell_type": "markdown",
   "metadata": {
    "collapsed": true
   },
   "source": [
    "## Ιδιοτιμές - Ιδιοδιανύσματα"
   ]
  },
  {
   "cell_type": "markdown",
   "metadata": {},
   "source": [
    "Το χαρακτηριστικό πολυώνυμο ενός πίνακα μπορεί να βρεθεί στο SageMath με τη μέθοδο `characteristic_polynomial()` (ή `charpoly()` για συντομία) της κλάσης `matrix`."
   ]
  },
  {
   "cell_type": "code",
   "execution_count": 23,
   "metadata": {},
   "outputs": [
    {
     "name": "stdout",
     "output_type": "stream",
     "text": [
      "Ο πίνακας A είναι:\n"
     ]
    },
    {
     "data": {
      "text/html": [
       "<html><script type=\"math/tex; mode=display\">\\newcommand{\\Bold}[1]{\\mathbf{#1}}\\left(\\begin{array}{rrr}\n",
       "4 & -1 & 6 \\\\\n",
       "2 & 1 & 6 \\\\\n",
       "2 & -1 & 8\n",
       "\\end{array}\\right)</script></html>"
      ],
      "text/plain": [
       "[ 4 -1  6]\n",
       "[ 2  1  6]\n",
       "[ 2 -1  8]"
      ]
     },
     "metadata": {},
     "output_type": "display_data"
    },
    {
     "name": "stdout",
     "output_type": "stream",
     "text": [
      "Το χαρακτηριστικό πολυώνυμο του A είναι:\n",
      "x^3 - 13*x^2 + 40*x - 36\n"
     ]
    }
   ],
   "source": [
    "A = matrix(QQ, 3, 3, [4, -1, 6, 2, 1, 6, 2, -1, 8])\n",
    "print (\"Ο πίνακας A είναι:\")\n",
    "show(A)\n",
    "print (\"Το χαρακτηριστικό πολυώνυμο του A είναι:\")\n",
    "print (A.charpoly())   # ή A.characteristic_polynomial()"
   ]
  },
  {
   "cell_type": "markdown",
   "metadata": {},
   "source": [
    "Παρατηρήστε πως το SageMath εξ ορισμού χρησιμοποιεί το $x$ ως μεταβλητή του πολυωνύμου, αντί του $\\lambda$. Εάν θέλουμε να αλλάξουμε τη μεταβλητή του χαρακτηριστικού πολυωνύμου, πρέπει να μεταβιβάσουμε στην παράμετρο `var` της μεθόδου `charpoly()` (ή `characteristic_polynomial()`) μια συμβολοσειρά με το όνομα της μεταβλητής που θέλουμε να έχει το πολυώνυμο. Έτσι, για να πάρουμε το ίδιο πολυώνυμο με το παραπάνω κελί, αλλά ως προς τη μεταβλητή $l$, θα πρέπει να γράψουμε:"
   ]
  },
  {
   "cell_type": "code",
   "execution_count": 24,
   "metadata": {},
   "outputs": [
    {
     "name": "stdout",
     "output_type": "stream",
     "text": [
      "l^3 - 13*l^2 + 40*l - 36\n"
     ]
    }
   ],
   "source": [
    "print (A.charpoly(var = 'l'))   # Η μεταβλητή του πολυωνύμου θα είναι l."
   ]
  },
  {
   "cell_type": "markdown",
   "metadata": {},
   "source": [
    "Και οι ρίζες του θα είναι οι ιδιοτιμές του πίνακα $A$:"
   ]
  },
  {
   "cell_type": "code",
   "execution_count": 25,
   "metadata": {},
   "outputs": [
    {
     "data": {
      "text/plain": [
       "[(9, 1), (2, 2)]"
      ]
     },
     "execution_count": 25,
     "metadata": {},
     "output_type": "execute_result"
    }
   ],
   "source": [
    "p = A.charpoly(var = 'l')\n",
    "p.roots()"
   ]
  },
  {
   "cell_type": "markdown",
   "metadata": {},
   "source": [
    "<b>Σημείωση:</b> Έστω ότι $\\lambda_1, \\lambda_2, \\ldots, \\lambda_\\rho$ είναι οι διαφορετικές ανά δύο ρίζες του χαρακτηριστικού πολυωνύμου $p(\\lambda)$ με αντίστοιχες πολλαπλότητες $\\nu_1, \\nu_2, \\ldots, \\nu_\\rho$. Το $p(\\lambda)$ τότε μπορεί να γραφεί στην παραγοντοποιημένη του μορφή ως: $p(\\lambda) = (\\lambda_1 - \\lambda)^{\\nu_1} (\\lambda_2 - \\lambda)^{\\nu_2} \\cdots (\\lambda_\\rho - \\lambda)^{\\nu_\\rho}$. Τη μορφή αυτή μπορούμε να ανακτήσουμε άμεσα στο SageMath με τη μέθοδο `fcp` της κλάσης `matrix`."
   ]
  },
  {
   "cell_type": "code",
   "execution_count": 26,
   "metadata": {},
   "outputs": [
    {
     "data": {
      "text/plain": [
       "(l - 9) * (l - 2)^2"
      ]
     },
     "execution_count": 26,
     "metadata": {},
     "output_type": "execute_result"
    }
   ],
   "source": [
    "A = matrix(QQ, 3, 3, [4, -1, 6, 2, 1, 6, 2, -1, 8])\n",
    "A.fcp(var = 'l')   # Η παράμετρος var λειτουργεί όπως και στις μεθόδους charpoly & characteristic_polynomial."
   ]
  },
  {
   "cell_type": "markdown",
   "metadata": {},
   "source": [
    "Επιστρέφοντας στην άσκηση, βλέπουμε ότι οι ιδιοτιμές του πίνακα $A$ είναι το $\\lambda_1 = 9$ με πολλαπλότητα 1 και το $\\lambda_2 = 2$ με πολλαπλότητα 2. Παρατηρήστε ότι το άθροισμα των πολλαπλοτήτων των ριζών είναι ίσο με το βαθμό του χαρακτηριστικού πολυωνύμου και την τάξη του πίνακα $A$."
   ]
  },
  {
   "cell_type": "markdown",
   "metadata": {},
   "source": [
    "Οι ιδιοτιμές ενός πίνακα μπορούν να ανακτηθούν και άμεσα με τη μέθοδο `eigenvalues()` της κλάσης `matrix`:"
   ]
  },
  {
   "cell_type": "code",
   "execution_count": 27,
   "metadata": {},
   "outputs": [
    {
     "data": {
      "text/plain": [
       "[9, 2, 2]"
      ]
     },
     "execution_count": 27,
     "metadata": {},
     "output_type": "execute_result"
    }
   ],
   "source": [
    "A.eigenvalues()"
   ]
  },
  {
   "cell_type": "markdown",
   "metadata": {},
   "source": [
    "Η `eigenvalues()` μας επιστρέφει μια λίστα με τις ιδιοτιμές του πίνακα για τον οποίο καλείται. Η κάθε ιδιοτιμή περιλαμβάνεται στη λίστα τόσες φορές όσες είναι η πολλαπλότητά της."
   ]
  },
  {
   "cell_type": "markdown",
   "metadata": {},
   "source": [
    "<b>Πρόταση:</b> Αν $A$ είναι ένας $n \\times n$ πίνακας με ιδιοτιμές $\\lambda_1, \\lambda_2, \\ldots, \\lambda_n$, τότε:\n",
    "<ul>\n",
    "    <li>$det(A) = \\lambda_1 \\cdot \\lambda_2 \\cdot \\ldots \\cdot \\lambda_n$</li>\n",
    "    <li>$tr(A) = \\lambda_1 + \\lambda_2 + \\ldots + \\lambda_n$</li>\n",
    "</ul>"
   ]
  },
  {
   "cell_type": "markdown",
   "metadata": {},
   "source": [
    "Πράγματι, για το παράδειγμά μας ειναι:"
   ]
  },
  {
   "cell_type": "code",
   "execution_count": 28,
   "metadata": {},
   "outputs": [
    {
     "data": {
      "text/plain": [
       "True"
      ]
     },
     "execution_count": 28,
     "metadata": {},
     "output_type": "execute_result"
    }
   ],
   "source": [
    "det(A) == prod(A.eigenvalues())   # Η συνάρτηση prod του SageMath υπολογίζει το γινόμενο των στοιχείων μιας λίστας."
   ]
  },
  {
   "cell_type": "code",
   "execution_count": 29,
   "metadata": {},
   "outputs": [
    {
     "data": {
      "text/plain": [
       "True"
      ]
     },
     "execution_count": 29,
     "metadata": {},
     "output_type": "execute_result"
    }
   ],
   "source": [
    "A.trace() == sum(A.eigenvalues())   # Η συνάρτηση sum της Python υπολογίζει το άθροισμα των στοιχείων μιας ακολουθίας."
   ]
  },
  {
   "cell_type": "markdown",
   "metadata": {},
   "source": [
    "Μπορούμε να βρούμε τα ιδιοδιανύσματα ενός πίνακα με τη μέθοδο `eigenvectors()` της κλάσης `matrix`:"
   ]
  },
  {
   "cell_type": "code",
   "execution_count": 30,
   "metadata": {},
   "outputs": [
    {
     "data": {
      "text/html": [
       "<html><script type=\"math/tex; mode=display\">\\newcommand{\\Bold}[1]{\\mathbf{#1}}\\left[\\left(9, \\left[\\left(1,\\,1,\\,1\\right)\\right], 1\\right), \\left(2, \\left[\\left(1,\\,0,\\,-\\frac{1}{3}\\right), \\left(0,\\,1,\\,\\frac{1}{6}\\right)\\right], 2\\right)\\right]</script></html>"
      ],
      "text/plain": [
       "[(9, [\n",
       "  (1, 1, 1)\n",
       "  ], 1), (2, [\n",
       "  (1, 0, -1/3),\n",
       "  (0, 1, 1/6)\n",
       "  ], 2)]"
      ]
     },
     "metadata": {},
     "output_type": "display_data"
    }
   ],
   "source": [
    "show(A.eigenvectors_right())"
   ]
  },
  {
   "cell_type": "markdown",
   "metadata": {},
   "source": [
    "Ας εξετάσουμε λίγο πιο διεξοδικά το αποτέλεσμα που μας επέστρεψε το SageMath. Αυτό είναι μια λίστα της οποίας τα στοιχεία είναι πλειάδες (τριάδες για την ακρίβεια) της μορφής:\n",
    "\n",
    "(ιδιοτιμή, [λίστα αντίστοιχων ιδιοδιανυσμάτων], πολλαπλότητα ιδιοτιμής)\n",
    "\n",
    "Άρα, το αποτέλεσμα που λάβαμε σημαίνει πως:\n",
    "<ul>\n",
    "    <li>Το $\\lambda_1 = 9$ είναι μια ιδιοτιμή του πίνακα $A$ με πολλαπλότητα 1 και πως ο αντίστοιχος ιδιοχώρος $V(1)$ παράγεται από το διάνυσμα $v_1 = (1, 1, 1)$. Επειδή μάλιστα το $v_1 = (1, 1, 1)$ είναι γραμμικά ανεξάρτητο (ως μη-μηδενικό), αποτελεί μια βάση του $V(1)$.</li>\n",
    "    <li>Το $\\lambda_2 = 2$ είναι μια ιδιοτιμή του πίνακα $A$ με πολλαπλότητα 2 και πως ο αντίστοιχος ιδιοχώρος $V(2)$ παράγεται από τα διανύσματα $v_2 = (1, 0, -\\frac{1}{3})$ και $v_3 = (0, 1, \\frac{1}{6})$. Επειδή μάλιστα τα $v_2 = (1, 0, -\\frac{1}{3})$ και $v_3 = (0, 1, \\frac{1}{6})$ είναι γραμμικά ανεξάρτητα (βλ. επόμενο κελί), αποτελούν μια βάση του $V(2)$.</li>\n",
    "</ul>"
   ]
  },
  {
   "cell_type": "code",
   "execution_count": 31,
   "metadata": {},
   "outputs": [
    {
     "data": {
      "text/plain": [
       "[[x == 0, y == 0]]"
      ]
     },
     "execution_count": 31,
     "metadata": {},
     "output_type": "execute_result"
    }
   ],
   "source": [
    "# Ελέγχουμε αν τα διανύσματα v2 και v3 είναι γραμμικά ανεξάρτητα με βάση τον ορισμό\n",
    "v2 = vector(QQ, [1, 0, -1/3])\n",
    "v3 = vector(QQ, [0, 1, 1/6])\n",
    "var('x, y')\n",
    "solve(list(x*v2 + y*v3), [x, y])   # Το x*v2+y*v3 είναι vector. Θα πρέπει να μετατραπεί σε list για να το χειριστεί η solve."
   ]
  },
  {
   "cell_type": "markdown",
   "metadata": {},
   "source": [
    "Εάν θέλουμε, μπορούμε να κανονικοποιήσουμε τα διανύσματα βάσης των ιδιοχώρων μας. Πχ:"
   ]
  },
  {
   "cell_type": "code",
   "execution_count": 32,
   "metadata": {},
   "outputs": [
    {
     "name": "stdout",
     "output_type": "stream",
     "text": [
      "(1/3*sqrt(3), 1/3*sqrt(3), 1/3*sqrt(3))\n",
      "(3/10*sqrt(10), 0, -1/10*sqrt(10))\n",
      "(0, 6/37*sqrt(37), 1/37*sqrt(37))\n"
     ]
    }
   ],
   "source": [
    "v1 = vector(QQ, [1, 1, 1])\n",
    "v2 = vector(QQ, [1, 0, -1/3])\n",
    "v3 = vector(QQ, [0, 1, 1/6])\n",
    "print (v1.normalized())\n",
    "print (v2.normalized())\n",
    "print (v3.normalized())"
   ]
  },
  {
   "cell_type": "markdown",
   "metadata": {},
   "source": [
    "Τους ιδιοχώρους $V(\\lambda_i)$ που αντιστοιχούν στις ιδιοτιμές $\\lambda_i$ ενός πίνακα $A$ μπορούμε να τους ανακτήσουμε και με τη μέθοδο `eigenspaces_right()` της κλάσης `matrix`:"
   ]
  },
  {
   "cell_type": "code",
   "execution_count": 33,
   "metadata": {},
   "outputs": [
    {
     "data": {
      "text/plain": [
       "[\n",
       "(9, Vector space of degree 3 and dimension 1 over Rational Field\n",
       "User basis matrix:\n",
       "[1 1 1]),\n",
       "(2, Vector space of degree 3 and dimension 2 over Rational Field\n",
       "User basis matrix:\n",
       "[   1    0 -1/3]\n",
       "[   0    1  1/6])\n",
       "]"
      ]
     },
     "execution_count": 33,
     "metadata": {},
     "output_type": "execute_result"
    }
   ],
   "source": [
    "A.eigenspaces_right()"
   ]
  },
  {
   "cell_type": "markdown",
   "metadata": {},
   "source": [
    "Η λίστα που μας επιστρέφει η μέθοδος `eigenspaces_right()` έχει ως στοιχεία πλειάδες (για την ακρίβεια δυάδες) της μορφής:\n",
    "\n",
    "(ιδιοτιμή, περιγραφή του αντίστοιχου ιδιοχώρου)\n",
    "\n",
    "Έτσι, από το παραπάνω αποτέλεσμα βλέπουμε πως μας δίνονται οι ίδιες πληροφορίες που εξάγαμε νωρίτερα με τη μέθοδο `eigenvectors_right()`."
   ]
  }
 ],
 "metadata": {
  "kernelspec": {
   "display_name": "SageMath 9.1",
   "language": "sage",
   "name": "sagemath"
  },
  "language_info": {
   "codemirror_mode": {
    "name": "ipython",
    "version": 3
   },
   "file_extension": ".py",
   "mimetype": "text/x-python",
   "name": "python",
   "nbconvert_exporter": "python",
   "pygments_lexer": "ipython3",
   "version": "3.7.3"
  }
 },
 "nbformat": 4,
 "nbformat_minor": 1
}
