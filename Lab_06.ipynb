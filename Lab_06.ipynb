{
 "cells": [
  {
   "cell_type": "markdown",
   "metadata": {},
   "source": [
    "### Υποπίνακες\n",
    "Έστω ότι θέλουμε έχουμε έναν $5 \\times 5$ πίνακα και θέλουμε να επιλέξουμε τον παρακάτω $3 \\times 2$ υποπίνακα.\n",
    "\n",
    "<img src=\"./mat.png\" />\n",
    "\n",
    "<b>1ος τρόπος:</b> Με τη μέθοδο `submatrix()`.\n",
    "\n",
    "Η μέθοδος αυτή δέχεται ως παραμέτρους τις συντεταγμένες του πάνω αριστερού στοιχείου του αρχικού πίνακα από το οποίο θέλουμε να ξεκινήσουμε και το πλήθος των γραμμών και στηλών κατά τις οποίες θέλουμε να επεκταθούμε οριζόντια και κάθετα από αυτό. Εάν βγούμε εκτός των ορίων του πίνακα, προκύπτει σφάλμα.\n",
    "\n",
    "Για το παραπάνω παράδειγμα, θα ξεκινήσουμε από το στοιχείο με συντενταγμένες (1, 1) (2η γραμμή, 2η στήλη) και θα επεκταθούμε κατά 3 γραμμές προς τα κάτω και κατά 2 στήλες προς τα δεξιά."
   ]
  },
  {
   "cell_type": "code",
   "execution_count": null,
   "metadata": {},
   "outputs": [],
   "source": [
    "S = matrix(SR, 5, 5, [var(\"x\" + str(i) + str(j)) for i in range(1, 6) for j in range(1, 6)])\n",
    "print(\"Ο αρχικός πίνακας είναι:\")\n",
    "show(S)\n",
    "print(\"Ο ζητούμενος υποπίνακας είναι:\")\n",
    "show(S.submatrix(1, 1, 3, 2))"
   ]
  },
  {
   "cell_type": "markdown",
   "metadata": {},
   "source": [
    "<b>2ος τρόπος:</b> Με τεμαχισμό πίνακα."
   ]
  },
  {
   "cell_type": "markdown",
   "metadata": {},
   "source": [
    "Η ιδέα του τεμαχισμού στην Python είναι η εξαγωγή μια υπακολουθίας στοιχείων (πχ: υπολίστας, υποσυμβολοσειράς, κλπ) από μια δοθείσα ακολουθία στοιχείων (πχ: λίστα, συμβολοσειρά, κλπ). Στην περίπτωση των λιστών, ο τεμαχισμός γινόταν με την ακόλουθη σύνταξη:\n",
    "\n",
    "```lst[start:end]```\n",
    "\n",
    "με αποτέλεσμα να επιστρέφεται η υπολίστα των στοιχείων: `lst[start], lst[start+1], lst[start+2], ..., lst[end-1]`.\n",
    "\n",
    "<b>Προσοχή!</b> Ο αριθμοδείκτης `end` οριοθετεί το τέλος της υπακολουθίας στοιχείων που θέλουμε, <b>χωρίς όμως να το συμπεριλαμβάνει</b>."
   ]
  },
  {
   "cell_type": "code",
   "execution_count": null,
   "metadata": {},
   "outputs": [],
   "source": [
    "days = [\"Sunday\", \"Monday\", \"Tuesday\", \"Wednesday\", \"Thursday\", \"Friday\", \"Saturday\"]\n",
    "print(\"Όλες οι μέρες της εβδομάδας:\", days[:])\n",
    "print(\"Οι μέρες της εβδομάδας από την 3η και μετά:\", days[2:])\n",
    "print(\"Οι 5 πρώτες μέρες της εβδομάδας:\", days[:5])\n",
    "print(\"Οι μέρες της εβδομάδας από την 3η μέχρι την 5η μέρα:\", days[2:5])"
   ]
  },
  {
   "cell_type": "markdown",
   "metadata": {},
   "source": [
    "Οι λίστες είναι μονοδιάστατες, οπότε κινούμαστε μόνο σε μια διάσταση όταν τεμαχίζουμε μια ακολουθία. Η ιδέα του τεμαχισμού σε πίνακα είναι η ίδια, με μόνη διαφορά ότι εδώ κινούμαστε σε δυο διαστάσεις (κατακόρυφα για γραμμές και οριζόντια για στήλες). Η σύνταξη στην περίπτωσή μας επομένως θα είναι:\n",
    "\n",
    "```M[x_start:x_end, y_start:y_end]```\n",
    "\n",
    "με αποτέλεσμα να επιστρέφεται ο υποπίνακας που εσωκλείεται από τις γραμμές `x_start` και `x_end` και τις στήλες `y_start` και `y_end`.\n",
    "\n",
    "<img src=\"./grid.png\" />\n",
    "\n",
    "Επομένως, για το παράδειγμά μας θα είναι:"
   ]
  },
  {
   "cell_type": "code",
   "execution_count": null,
   "metadata": {},
   "outputs": [],
   "source": [
    "S = matrix(SR, 5, 5, [var(\"x\" + str(i) + str(j)) for i in range(1, 6) for j in range(1, 6)])\n",
    "print(\"Ο αρχικός πίνακας είναι:\")\n",
    "show(S)\n",
    "print(\"Ο ζητούμενος υποπίνακας είναι:\")\n",
    "show(S[1:4, 1:3])   # από 2η ως και 4η γραμμή & από 2η ως και 3η στήλη"
   ]
  },
  {
   "cell_type": "markdown",
   "metadata": {},
   "source": [
    "### Μηδενικός πίνακας\n",
    "Μπορούμε να κατασκευάσουμε τον μηδενικό πίνακα με τη συνάρτηση `zero_matrix` ως εξής:"
   ]
  },
  {
   "cell_type": "code",
   "execution_count": null,
   "metadata": {},
   "outputs": [],
   "source": [
    "O = zero_matrix(ZZ, 2, 3)   # αν θέλουμε τετραγωνικό πίνακα, παραλείπουμε το πλήθος των στηλών.\n",
    "O"
   ]
  },
  {
   "cell_type": "markdown",
   "metadata": {},
   "source": [
    "### Ταυτοτικός πίνακας\n",
    "Για τον μοναδιαίο ή αλλιώς ταυτοτικό πίνακα, χρησιμοποιούμε τη συνάρτηση `identity_matrix`:"
   ]
  },
  {
   "cell_type": "code",
   "execution_count": null,
   "metadata": {},
   "outputs": [],
   "source": [
    "I = identity_matrix(ZZ, 3)   # το πλήθος των γραμμών αρκεί (γιατί;).\n",
    "show(I)"
   ]
  },
  {
   "cell_type": "markdown",
   "metadata": {},
   "source": [
    "### Αναστροφή πίνακα\n",
    "Η αναστροφή ενός πίνακα γίνεται με τη μέθοδο `transpose()` (ή το πεδίο `T` για συντομία):"
   ]
  },
  {
   "cell_type": "code",
   "execution_count": null,
   "metadata": {},
   "outputs": [],
   "source": [
    "A = matrix(ZZ, 2, 3, [1,2,3,4,5,6])\n",
    "print(\"Ο πίνακας A είναι:\")\n",
    "show(A)\n",
    "print(\"Ο ανάστροφος του A είναι:\")\n",
    "show(A.transpose())"
   ]
  },
  {
   "cell_type": "code",
   "execution_count": null,
   "metadata": {},
   "outputs": [],
   "source": [
    "# εναλλακτικά\n",
    "A = matrix(ZZ, 2, 3, [1,2,3,4,5,6])\n",
    "show(A.T)"
   ]
  },
  {
   "cell_type": "markdown",
   "metadata": {},
   "source": [
    "### Ίχνος πίνακα\n",
    "Ορίζουμε ως ίχνος (trace) ενός $n \\times n$ πίνακα $A$, το άθροισμα των στοιχείων της κυρίας διαγωνίου του. Έτσι, για τον πίνακα:\n",
    "\n",
    "$$\n",
    "A = \\left[\n",
    "    \\begin{array}{cccc}\n",
    "    a_{1,1} & a_{1,2} & \\cdots & a_{1,n}  \\\\\n",
    "    a_{2,1} & a_{2,2} & \\cdots & a_{2,n}  \\\\\n",
    "    \\vdots  & \\vdots  & \\ddots & \\vdots   \\\\\n",
    "    a_{n,1} & a_{n,2} & \\cdots & a_{n,n}\n",
    "    \\end{array}\n",
    "\\right]\n",
    "$$\n",
    "\n",
    "το ίχνος του είναι ίσο με $Tr(A) = a_{1,1} + a_{2,2} + \\ldots + a_{n,n} = \\sum_{i=1}^{n}{a_{i,i}}$."
   ]
  },
  {
   "cell_type": "markdown",
   "metadata": {},
   "source": [
    "Το ίχνος ενός πίνακα μπορεί να βρεθεί με τη μέθοδο `trace`:"
   ]
  },
  {
   "cell_type": "code",
   "execution_count": null,
   "metadata": {},
   "outputs": [],
   "source": [
    "A = matrix(QQ, 3, 3, range(9))\n",
    "show(A)\n",
    "print( \"Το ίχνος του πίνακα Α είναι:\", A.trace() )"
   ]
  },
  {
   "cell_type": "markdown",
   "metadata": {},
   "source": [
    "Για μη-τετράγωνους πίνακες, το ίχνος δεν ορίζεται:"
   ]
  },
  {
   "cell_type": "code",
   "execution_count": null,
   "metadata": {},
   "outputs": [],
   "source": [
    "A = matrix(QQ, 2, 3, range(6))\n",
    "show(A)\n",
    "print( \"Το ίχνος του πίνακα Α είναι:\", A.trace() )"
   ]
  },
  {
   "cell_type": "markdown",
   "metadata": {},
   "source": [
    "<b>Άσκηση:</b> Γράψτε μια δική σας συνάρτηση `trace` η οποία θα δέχεται ως τυπική παράμετρο έναν πίνακα, θα υπολογίζει και θα επιστρέφει το ίχνος του. Εάν αυτός δεν είναι τετράγωνος, θα εμφανίζει το μηνυμα σφάλματος \"Σφάλμα: Ο πίνακας δεν είναι τετράγωνος!\" και θα επιστρέφει την τιμή `None`. Δοκιμάστε τη συνάρτησή σας για διάφορους πίνακες που θα δημιουργήσετε."
   ]
  },
  {
   "cell_type": "markdown",
   "metadata": {},
   "source": [
    "### Διαγώνιος πίνακα\n",
    "Η μέθοδος `diagonal()` επιστρέφει τα στοιχεία κατά μήκος της κυρίας διαγωνίου ενός πίνακα:"
   ]
  },
  {
   "cell_type": "code",
   "execution_count": null,
   "metadata": {},
   "outputs": [],
   "source": [
    "A = matrix(QQ, 3, 3, range(9))\n",
    "show(A)\n",
    "print( \"Τα διαγώνια στοιχεία είναι:\", A.diagonal() )"
   ]
  },
  {
   "cell_type": "markdown",
   "metadata": {},
   "source": [
    "Δουλεύει ακόμη και για μη-τετραγωνικούς πίνακες επιστρέφοντας τα στοιχεία $a_{i,i}$ για $i \\leq \\mathrm{min}(m, n)$."
   ]
  },
  {
   "cell_type": "code",
   "execution_count": null,
   "metadata": {},
   "outputs": [],
   "source": [
    "A = matrix(QQ, 3, 4, range(12))\n",
    "show(A)\n",
    "print( \"Τα διαγώνια στοιχεία είναι:\", A.diagonal() )"
   ]
  },
  {
   "cell_type": "markdown",
   "metadata": {},
   "source": [
    "<b>Άσκηση:</b> Γράψτε μια δική σας συνάρτηση `diagonal` η οποία θα δέχεται ως τυπική παράμετρο έναν πίνακα, θα υπολογίζει και θα επιστρέφει μια λίστα με τα διαγώνια στοιχεία του. Δοκιμάστε τη συνάρτησή σας για διάφορους πίνακες που θα δημιουργήσετε."
   ]
  },
  {
   "cell_type": "markdown",
   "metadata": {},
   "source": [
    "### Ξεδίπλωμα πίνακα\n",
    "Αν έχουμε έναν πίνακα:\n",
    "$$\n",
    "A = \\left[\n",
    "    \\begin{array}{cccc}\n",
    "    a_{1,1} & a_{1,2} & \\cdots & a_{1,n}  \\\\\n",
    "    a_{2,1} & a_{2,2} & \\cdots & a_{2,n}  \\\\\n",
    "    \\vdots  & \\vdots  & \\ddots & \\vdots   \\\\\n",
    "    a_{n,1} & a_{n,2} & \\cdots & a_{n,n}\n",
    "    \\end{array}\n",
    "\\right]\n",
    "$$\n",
    "τότε το \"ξεδίπλωμά\" του είναι η λίστα:\n",
    "$$\\left[ a_{1,1}, a_{1,2}, \\cdots, a_{1,n}, a_{2,1}, a_{2,2}, \\cdots, a_{2,n}, \\cdots, a_{n,1}, a_{n,2}, \\cdots, a_{n,n} \\right]$$\n",
    "\n",
    "Πχ: Το ξεδίπλωμα του πίνακα:\n",
    "$$\n",
    "A = \\left[\n",
    "    \\begin{array}{ccc}\n",
    "    5  & 3  & 0  \\\\\n",
    "    -1 & 0  & 3  \\\\\n",
    "    -3 & -1 & 2\n",
    "    \\end{array}\n",
    "\\right]\n",
    "$$\n",
    "είναι: $\\left[ 5, 3, 0, -1, 0, 3, -3, -1, 2 \\right]$"
   ]
  },
  {
   "cell_type": "markdown",
   "metadata": {},
   "source": [
    "Στο SageMath, το ξεδίπλωμα ενός πίνακα μπορεί να βρεθεί με τη μέθοδο `list` της κλάσης `matrix`."
   ]
  },
  {
   "cell_type": "code",
   "execution_count": null,
   "metadata": {},
   "outputs": [],
   "source": [
    "A = matrix(QQ, 3, 3, [5, 3, 0, -1, 0, 3, -3, -1, 2])\n",
    "A.list()"
   ]
  },
  {
   "cell_type": "markdown",
   "metadata": {},
   "source": [
    "### Μερικές κατηγορηματικές μέθοδοι των πινάκων"
   ]
  },
  {
   "cell_type": "markdown",
   "metadata": {},
   "source": [
    "Το SageMath διαθέτει διάφορες (κατηγορηματικές) μεθόδους (δηλ. που επιστρέφουν `True` ή `False`) που ελέγχουν εάν ένας πίνακας έχει κάποια δεδομένη ιδιότητα. Το όνομα αυτών των μεθόδων ξεκινά με `is_` και ορισμένες από αυτές φαίνονται στο παρακάτω παράδειγμα:"
   ]
  },
  {
   "cell_type": "code",
   "execution_count": null,
   "metadata": {},
   "outputs": [],
   "source": [
    "A = matrix(QQ, 3, 3, range(9))\n",
    "show(A)\n",
    "print( A.is_square() )           # Είναι ο πίνακας τετράγωνος;\n",
    "print( A.is_symmetric() )        # Είναι ο πίνακας συμμετρικός;\n",
    "print( A.is_skew_symmetric() )   # Είναι ο πίνακας αντισυμμετρικός;\n",
    "print( A.is_zero() )             # Είναι ο μηδενικός πίνακας;"
   ]
  },
  {
   "cell_type": "markdown",
   "metadata": {},
   "source": [
    "Ένας $n \\times n$ πίνακας $A$ ονομάζεται συμμετρικός (symmetric) εάν $A^T = A$ ή με άλλα λόγια, εάν τα στοιχεία του ικανοποιούν τη συνθήκη: $a_{i,j} = a_{j,i}, \\forall i, j$ (δηλ. εάν τα συμμετρικά ως προς την κύρια διαγώνιο στοιχεία του είναι ίσα). Ο πίνακας του επομένου παραδείγματος είναι συμμετρικός."
   ]
  },
  {
   "cell_type": "code",
   "execution_count": null,
   "metadata": {},
   "outputs": [],
   "source": [
    "A = matrix(ZZ, 3, 3, [1,2,3,2,4,5,3,5,6])\n",
    "show(A)\n",
    "print( A.is_symmetric() )"
   ]
  },
  {
   "cell_type": "markdown",
   "metadata": {},
   "source": [
    "Ένας $n \\times n$ πίνακας $A$ ονομάζεται αντισυμμετρικός (anti-symmetric ή skew-symmetric) εάν $A^T = -A$ ή με άλλα λόγια, εάν τα στοιχεία του ικανοποιούν τη συνθήκη: $a_{i,j} = -a_{j,i}, \\forall i, j$ (δηλ. εάν τα συμμετρικά ως προς την κύρια διαγώνιο στοιχεία του είναι αντίθετα). Ο πίνακας του επομένου παραδείγματος είναι αντισυμμετρικός."
   ]
  },
  {
   "cell_type": "code",
   "execution_count": null,
   "metadata": {},
   "outputs": [],
   "source": [
    "A = matrix(ZZ, 3, 3, [0,-2,-3,2,0,-5,3,5,0])\n",
    "show(A)\n",
    "print( A.is_skew_symmetric() )"
   ]
  },
  {
   "cell_type": "markdown",
   "metadata": {},
   "source": [
    "Σε έναν αντισυμμετρικό πίνακα, τα διαγώνια στοιχεία πρέπει να είναι ίσα με μηδέν. Πράγματι, εάν ένας πίνακας είναι αντισυμμετρικός, ισχύει ότι: $a_{i, j} = -a_{j, i}, \\forall i, j$. Άρα η συνθήκη αληθεύει και για $i=j$, δηλ: $a_{i,i} = -a_{i,i}$ ή ισοδύναμα: $2a_{i,i}=0$ που συνεπάγεται ότι: $a_{i,i} = 0, \\forall i$."
   ]
  },
  {
   "cell_type": "markdown",
   "metadata": {},
   "source": [
    "<b>Άσκηση:</b> Γράψτε δικές σας συναρτήσεις οι οποίες θα δέχονται ως τυπική παράμετρο έναν πίνακα και θα αποφαίνονται εάν αυτός έχει καθεμιά από τις παραπάνω ιδιότητες. Η τιμή που θα πρέπει να επιστρέφουν θα είναι `True` εάν έχουν αυτήν την ιδιότητα και `False` εάν δεν την έχουν. Δοκιμάστε τις συναρτήσεις σας για διάφορους πίνακες που θα δημιουργήσετε."
   ]
  },
  {
   "cell_type": "markdown",
   "metadata": {},
   "source": [
    "<b>Άσκηση:</b> Ένας τετράγωνος πίνακας λέγεται άνω (αντίστοιχα κάτω) τριγωνικός αν όλα τα στοιχεία του που βρίσκονται κάτω (αντίστοιχα πάνω) από την κύρια διαγώνιό του είναι όλα ίσα με μηδέν. Γράψτε (κατηγορηματικές) συναρτήσεις `is_upper_triangular` και `is_lower_triangular` που θα δέχονται ως παράμετρο τον πίνακα που θέλουμε να ελέγξουμε και θα επιστρέφουν `True` ή `False` ανάλογα με το αν αυτός πληροί ή όχι την αντίστοιχη συνθήκη."
   ]
  },
  {
   "cell_type": "markdown",
   "metadata": {},
   "source": [
    "## Πράξεις με πίνακες"
   ]
  },
  {
   "cell_type": "markdown",
   "metadata": {},
   "source": [
    "### Πρόσθεση και Αφαίρεση πινάκων\n",
    "Οι αριθμητικοί τελεστές `+` και `-` είναι υπερφορτωμένοι για πίνακες και υπολογίζουν το άθροισμα κατά συνιστώσα και τη διαφορά κατά συνιστώσα."
   ]
  },
  {
   "cell_type": "markdown",
   "metadata": {},
   "source": [
    "$$A + B = \\left[\n",
    "    \\begin{array}{cccc}\n",
    "    a_{1,1} & a_{1,2} & \\cdots & a_{1,n}  \\\\\n",
    "    a_{2,1} & a_{2,2} & \\cdots & a_{2,n}  \\\\\n",
    "    \\vdots  & \\vdots  & \\ddots & \\vdots   \\\\\n",
    "    a_{m,1} & a_{m,2} & \\cdots & a_{m,n}\n",
    "    \\end{array}\n",
    "\\right] + \\left[ \\begin{array}{cccc}\n",
    "    b_{1,1} & b_{1,2} & \\cdots & b_{1,n}  \\\\\n",
    "    b_{2,1} & b_{2,2} & \\cdots & b_{2,n}  \\\\\n",
    "    \\vdots  & \\vdots  & \\ddots & \\vdots   \\\\\n",
    "    b_{m,1} & b_{m,2} & \\cdots & b_{m,n}\n",
    "    \\end{array} \\right] = \\left[\n",
    "    \\begin{array}{cccc}\n",
    "    a_{1,1} + b_{1,1} & a_{1,2} + b_{1,2} & \\cdots & a_{1,n} + b_{1,n}  \\\\\n",
    "    a_{2,1} + b_{2,1} & a_{2,2} + b_{2,2} & \\cdots & a_{2,n} + b_{2,1}  \\\\\n",
    "    \\vdots  & \\vdots  & \\ddots & \\vdots   \\\\\n",
    "    a_{m,1} + b_{m,1} & a_{m,2} + b_{m,2} & \\cdots & a_{m,n} + b_{m,n}\n",
    "    \\end{array} \\right]\n",
    "$$"
   ]
  },
  {
   "cell_type": "code",
   "execution_count": null,
   "metadata": {},
   "outputs": [],
   "source": [
    "var('x,y,z')\n",
    "A = matrix(SR, 2, 3, [-3, x, 2, z+3, 5, y])        # Συμβολικός πίνακας\n",
    "show(A)\n",
    "B = matrix(SR, 2, 3, [2, 5-x, -2, -3, 4+x, 3-y])   # Συμβολικός πίνακας\n",
    "show(B)\n",
    "C = matrix(ZZ, 2, 2, [1, 0, -4, 3])                # Πίνακας ακεραίων\n",
    "show(C)\n",
    "\n",
    "print( \"Ο πίνακας A + B είναι:\" )\n",
    "show(A + B)\n",
    "print( \"Ο πίνακας A - B είναι:\" )\n",
    "show(A - B)\n",
    "\n",
    "print(B + C)  # Η πράξη δεν ορίζεται και άρα παίρνουμε μήνυμα σφάλματος."
   ]
  },
  {
   "cell_type": "markdown",
   "metadata": {},
   "source": [
    "<b>Άσκηση:</b> Γράψτε μια συνάρτηση `matrix_addition` η οποία θα δέχεται ως παραμέτρους δύο πίνακες `Α` και `B`, θα υπολογίζει και θα επιστρέφει το άθροισμά τους, αθροίζοντας τα ομοθέσια στοιχεία τους με τη βοήθεια βρόχων `for`. Σε περίπτωση που οι διαστάσεις τους δε συμπίπτουν, θα εμφανίζει το μήνυμα σφάλματος \"Σφάλμα: Η πρόσθεση πινάκων δεν ορίζεται!\" και θα επιστρέφει την τιμή `None`."
   ]
  },
  {
   "cell_type": "markdown",
   "metadata": {},
   "source": [
    "#### Ευθύ άθροισμα πίνακα\n",
    "Έστω πίνακες $A$ και $B$ με διαστάσεις $m \\times n$ και $p \\times q$ αντίστοιχα. Το ευθύ άθροισμα τους $A$ και $B$ ορίζεται ως ο $(m+p) \\times (n+q)$ μπλοκ πίνακας:\n",
    "\n",
    "$$\n",
    "A \\oplus B = \n",
    "A = \\left[\n",
    "    \\begin{array}{cc}\n",
    "    A  & O  \\\\\n",
    "    O & B\n",
    "    \\end{array}\n",
    "\\right]\n",
    "$$\n",
    "όπου $O$ είναι μηδενικοί πίνακες κατάλληλων διαστάσεων."
   ]
  },
  {
   "cell_type": "markdown",
   "metadata": {},
   "source": [
    "Στο SageMath μπορούμε να κατασκευάσουμε μπλοκ πίνακες από άλλους πίνακες με τη συνάρτηση `block_matrix`:"
   ]
  },
  {
   "cell_type": "code",
   "execution_count": null,
   "metadata": {},
   "outputs": [],
   "source": [
    "A = matrix(ZZ, 3, 3, [2, -1, 4, -3, 2, -5, 7, 6, 1])\n",
    "B = matrix(ZZ, 2, 2, [4, 2, 1, 3])\n",
    "block_matrix([[A, zero_matrix(ZZ, 3, 2)],[zero_matrix(ZZ, 2, 3), B]])"
   ]
  },
  {
   "cell_type": "markdown",
   "metadata": {},
   "source": [
    "<b>Σημείωση:</b> Αν δε θέλουμε να εμφανίζονται τα διαχωριστικά, περνάμε ως επιπλέον παράμετρο `subdivide = False` στη συνάρτηση `block_matrix`:"
   ]
  },
  {
   "cell_type": "code",
   "execution_count": null,
   "metadata": {},
   "outputs": [],
   "source": [
    "A = matrix(ZZ, 3, 3, [2, -1, 4, -3, 2, -5, 7, 6, 1])\n",
    "B = matrix(ZZ, 2, 2, [4, 2, 1, 3])\n",
    "block_matrix([[A, zero_matrix(ZZ, 3, 2)],[zero_matrix(ZZ, 2, 3), B]], subdivide = False)"
   ]
  },
  {
   "cell_type": "markdown",
   "metadata": {},
   "source": [
    "### Γινόμενα πίνακα\n",
    "Ο τελεστής `*` λειτουργεί ανάλογα με τους τύπους των αντικειμένων με τα οποία τον χρησιμοποιούμε."
   ]
  },
  {
   "cell_type": "markdown",
   "metadata": {},
   "source": [
    "#### Βαθμωτό γινόμενο\n",
    "Αν χρησιμοποιηθεί μεταξύ μιας βαθμωτής ποσότητας (πχ: σταθ. αριθμού) και πίνακα, τότε υπολογίζει το βαθμωτό τους γινόμενο."
   ]
  },
  {
   "cell_type": "markdown",
   "metadata": {},
   "source": [
    "$$\n",
    "c \\cdot A = c \\cdot \\left[\n",
    "    \\begin{array}{cccc}\n",
    "    a_{1,1} & a_{1,2} & \\cdots & a_{1,n}  \\\\\n",
    "    a_{2,1} & a_{2,2} & \\cdots & a_{2,n}  \\\\\n",
    "    \\vdots  & \\vdots  & \\ddots & \\vdots   \\\\\n",
    "    a_{m,1} & a_{m,2} & \\cdots & a_{m,n}\n",
    "    \\end{array}\n",
    "\\right] = \\left[\n",
    "    \\begin{array}{cccc}\n",
    "    c \\cdot a_{1,1} & c \\cdot a_{1,2} & \\cdots & c \\cdot a_{1,n}  \\\\\n",
    "    c \\cdot a_{2,1} & c \\cdot a_{2,2} & \\cdots & c \\cdot a_{2,n}  \\\\\n",
    "    \\vdots  & \\vdots  & \\ddots & \\vdots   \\\\\n",
    "    c \\cdot a_{m,1} & c \\cdot a_{m,2} & \\cdots & c \\cdot a_{m,n}\n",
    "    \\end{array}\n",
    "\\right]\n",
    "$$"
   ]
  },
  {
   "cell_type": "code",
   "execution_count": null,
   "metadata": {},
   "outputs": [],
   "source": [
    "c = 10\n",
    "A = matrix(ZZ, 2, 3, range(1, 7))   # ή matrix(ZZ, 2, 3, [1..6])\n",
    "show(c*A)   # Αριθμός με πίνακα (βαθμωτό γινόμενο)"
   ]
  },
  {
   "cell_type": "markdown",
   "metadata": {},
   "source": [
    "#### Γινόμενο πινάκων\n",
    "Αν χρησιμοποιηθεί ανάμεσα σε πίνακες, θα επιστραφεί το γινόμενό τους.\n",
    "$$\n",
    "\\left[\n",
    "    \\begin{array}{cccc}\n",
    "    a_{1,1} & a_{1,2} & \\cdots & a_{1,n}  \\\\\n",
    "    a_{2,1} & a_{2,2} & \\cdots & a_{2,n}  \\\\\n",
    "    \\vdots  & \\vdots  & \\ddots & \\vdots   \\\\\n",
    "    a_{m,1} & a_{m,2} & \\cdots & a_{m,n}\n",
    "    \\end{array}\n",
    "\\right] \\cdot \\left[\n",
    "    \\begin{array}{cccc}\n",
    "    b_{1,1} & b_{1,2} & \\cdots & b_{1,k}  \\\\\n",
    "    b_{2,1} & b_{2,2} & \\cdots & b_{2,b}  \\\\\n",
    "    \\vdots  & \\vdots  & \\ddots & \\vdots   \\\\\n",
    "    b_{n,1} & b_{n,2} & \\cdots & n_{n,k}\n",
    "    \\end{array}\n",
    "\\right] = \\left[\n",
    "    \\begin{array}{cccc}\n",
    "    A_{(1)} \\cdot B^{(1)} & A_{(1)} \\cdot B^{(2)} & \\cdots & A_{(1)} \\cdot B^{(k)}  \\\\\n",
    "    A_{(2)} \\cdot B^{(1)} & A_{(2)} \\cdot B^{(2)} & \\cdots & A_{(2)} \\cdot B^{(k)}  \\\\\n",
    "    \\vdots  & \\vdots  & \\ddots & \\vdots   \\\\\n",
    "    A_{(m)} \\cdot B^{(1)} & A_{(m)} \\cdot B^{(2)} & \\cdots & A_{(m)} \\cdot B^{(k)}\n",
    "    \\end{array}\n",
    "\\right]\n",
    "$$"
   ]
  },
  {
   "cell_type": "code",
   "execution_count": null,
   "metadata": {},
   "outputs": [],
   "source": [
    "A = matrix(ZZ, 2, 3, range(1,7))\n",
    "B = matrix(ZZ, 3, 2, range(10, 70, 10))\n",
    "show(A*B)   # Πίνακας με πίνακα (γινόμενο πινάκων)"
   ]
  },
  {
   "cell_type": "markdown",
   "metadata": {},
   "source": [
    "#### Γινόμενο Πίνακα με Διάνυσμα\n",
    "Το γινόμενο πίνακα με διάνυσμα (ή διανύσματος με πίνακα) υπολογίζεται θεωρώντας το διάνυσμα ως πίνακα-στήλη (πίνακα-γραμμή αντίστοιχα)."
   ]
  },
  {
   "cell_type": "code",
   "execution_count": null,
   "metadata": {},
   "outputs": [],
   "source": [
    "A = matrix(QQ, 2, 4, [1, 3, 5, 9, 0, 2, 4, 6])\n",
    "v = vector(QQ , [1, 2, 3, 4])\n",
    "A * v   # Πίνακας με διάνυσμα. Το v εδώ θεωρείται ως πίνακας-στήλη (4x1)."
   ]
  },
  {
   "cell_type": "markdown",
   "metadata": {},
   "source": [
    "Στο επόμενο παράδειγμα, προσπαθούμε να πολ/με το διάνυσμα $v$ με τον πίνακα $A$ από αριστερά. Όμως το γινόμενο αυτό δε μπορεί να υπολογιστεί αφού το $v$ εδώ θεωρείται ως πίνακας-γραμμή ($1 \\times 4$), ενώ οι διαστάσεις του $A$ είναι $2 \\times 4$"
   ]
  },
  {
   "cell_type": "code",
   "execution_count": null,
   "metadata": {},
   "outputs": [],
   "source": [
    "A = matrix(QQ, 2, 4, [1, 3, 5, 9, 0, 2, 4, 6])\n",
    "v = vector(QQ , [1, 2, 3, 4])\n",
    "v * A   # Διάνυσμα με πίνακα. Το v εδώ θεωρείται ως πίνακας-γραμμή."
   ]
  },
  {
   "cell_type": "markdown",
   "metadata": {},
   "source": [
    "#### Γινόμενο Kronecker\n",
    "Το γινόμενο Kronecker του $m \\times n$ πίνακα $A$ με τον $p \\times q$ πίνακα $B$, ορίζεται ως ο $mp \\times nq$ πίνακας:\n",
    "\n",
    "$$A \\otimes B = \\left[\n",
    "    \\begin{array}{cccc}\n",
    "    a_{1,1} B & a_{1,2} B & \\cdots & a_{1,n} B  \\\\\n",
    "    a_{2,1} B & a_{2,2} B & \\cdots & a_{2,n} B  \\\\\n",
    "    \\vdots  & \\vdots  & \\ddots & \\vdots   \\\\\n",
    "    a_{m,1} B & a_{m,2} B & \\cdots & a_{m,n} B\n",
    "    \\end{array}\n",
    "\\right]\n",
    "$$\n",
    "\n",
    "Το γινόμενο Kronecker δύο πινάκων `A` και `B` υπολογίζεται στο SageMath με τη μέθοδο `tensor_product` της κλάσης `matrix`."
   ]
  },
  {
   "cell_type": "code",
   "execution_count": null,
   "metadata": {},
   "outputs": [],
   "source": [
    "A = matrix(ZZ, 2, 2, [1, 2, 3, 4])\n",
    "B = matrix(ZZ, 2, 3, [10, 20, 30, 40, 50, 60])\n",
    "A.tensor_product(B)"
   ]
  },
  {
   "cell_type": "markdown",
   "metadata": {},
   "source": [
    "<b>Άσκηση:</b> Γράψτε μια συνάρτηση `kronecker_product` που θα δέχεται ως παραμέτρους δύο πίνακες `A` και `B` και θα επιστρέφει το γινόμενο Kronecker τους."
   ]
  },
  {
   "cell_type": "markdown",
   "metadata": {},
   "source": [
    "#### Γινόμενο Hadamard\n",
    "Το γινόμενο Hadamard δύο πινάκων $A$ και $B$ ορίζεται ως:\n",
    "$$A \\circ B = \\left[\n",
    "    \\begin{array}{cccc}\n",
    "    a_{1,1} & a_{1,2} & \\cdots & a_{1,n}  \\\\\n",
    "    a_{2,1} & a_{2,2} & \\cdots & a_{2,n}  \\\\\n",
    "    \\vdots  & \\vdots  & \\ddots & \\vdots   \\\\\n",
    "    a_{m,1} & a_{m,2} & \\cdots & a_{m,n}\n",
    "    \\end{array}\n",
    "\\right] \\circ \\left[ \\begin{array}{cccc}\n",
    "    b_{1,1} & b_{1,2} & \\cdots & b_{1,n}  \\\\\n",
    "    b_{2,1} & b_{2,2} & \\cdots & b_{2,n}  \\\\\n",
    "    \\vdots  & \\vdots  & \\ddots & \\vdots   \\\\\n",
    "    b_{m,1} & b_{m,2} & \\cdots & b_{m,n}\n",
    "    \\end{array} \\right] = \\left[\n",
    "    \\begin{array}{cccc}\n",
    "    a_{1,1} b_{1,1} & a_{1,2} b_{1,2} & \\cdots & a_{1,n} b_{1,n}  \\\\\n",
    "    a_{2,1} b_{2,1} & a_{2,2} b_{2,2} & \\cdots & a_{2,n} b_{2,1}  \\\\\n",
    "    \\vdots  & \\vdots  & \\ddots & \\vdots   \\\\\n",
    "    a_{m,1} b_{m,1} & a_{m,2} b_{m,2} & \\cdots & a_{m,n} b_{m,n}\n",
    "    \\end{array} \\right]\n",
    "$$\n",
    "\n",
    "Το γινόμενο Hadamard δεν υπάρχει ως συνάρτηση ή μέθοδος στο SageMath. Μπορεί όμως να υπολογιστεί με τη βοήθεια της βιβλιοθήκης numpy."
   ]
  },
  {
   "cell_type": "code",
   "execution_count": null,
   "metadata": {},
   "outputs": [],
   "source": [
    "from numpy import array\n",
    "\n",
    "A = array([[2, -1, 4], [-3, 2, -5], [7, 1, 6]])\n",
    "B = array([[1, 4, 3], [-1, 5, -2], [6, 8, 1]])\n",
    "\n",
    "print(A * B)"
   ]
  },
  {
   "cell_type": "markdown",
   "metadata": {},
   "source": [
    "<b>Άσκηση:</b> Γράψτε μια συνάρτηση `hadamard_product` που θα δέχεται ως παραμέτρους δύο πίνακες `A` και `B` και θα επιστρέφει το γινόμενο Hadamard τους. Σε περίπτωση που οι διαστάσεις τους δε συμπίπτουν, να εκτυπώνεται σχετικό μήνυμα σφάλματος και να επιστρέφεται η τιμή `None`."
   ]
  },
  {
   "cell_type": "markdown",
   "metadata": {},
   "source": [
    "### Ύψωση πίνακα σε δύναμη\n",
    "Οι τελεστές ύψωσης σε δύναμη `^` και `**` είναι υπερφορτωμένοι για τετραγωνικούς πίνακες."
   ]
  },
  {
   "cell_type": "code",
   "execution_count": null,
   "metadata": {},
   "outputs": [],
   "source": [
    "A = matrix(ZZ, 2, 2, [1, -1, 2, -2])\n",
    "for i in range(1, 11):\n",
    "    show(A^i)"
   ]
  },
  {
   "cell_type": "markdown",
   "metadata": {},
   "source": [
    "Μη-ακέραιες δυνάμεις δεν υποστηρίζονται προς το παρόν:"
   ]
  },
  {
   "cell_type": "code",
   "execution_count": null,
   "metadata": {},
   "outputs": [],
   "source": [
    "A = matrix(ZZ, 2, 2, [1, -1, 2, -2])\n",
    "show(A^(1/2))"
   ]
  }
 ],
 "metadata": {
  "kernelspec": {
   "display_name": "SageMath 9.1",
   "language": "sage",
   "name": "sagemath"
  },
  "language_info": {
   "codemirror_mode": {
    "name": "ipython",
    "version": 3
   },
   "file_extension": ".py",
   "mimetype": "text/x-python",
   "name": "python",
   "nbconvert_exporter": "python",
   "pygments_lexer": "ipython3",
   "version": "3.7.3"
  }
 },
 "nbformat": 4,
 "nbformat_minor": 1
}
