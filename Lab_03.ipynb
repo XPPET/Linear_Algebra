{
 "cells": [
  {
   "cell_type": "code",
   "execution_count": null,
   "metadata": {},
   "outputs": [],
   "source": [
    "x = 124\n",
    "if x%2 == 0:\n",
    "    print(\"Άρτιος\")\n",
    "print(\"Τέλος εκτέλεσης\")"
   ]
  },
  {
   "cell_type": "code",
   "execution_count": null,
   "metadata": {},
   "outputs": [],
   "source": [
    "x = 123\n",
    "if x%2 == 0:\n",
    "    print(\"Άρτιος\")\n",
    "else:\n",
    "    print(\"Περιττός\")\n",
    "print(\"Τέλος εκτέλεσης\")"
   ]
  },
  {
   "cell_type": "code",
   "execution_count": null,
   "metadata": {},
   "outputs": [],
   "source": [
    "x = 9\n",
    "y = 5\n",
    "z = 7\n",
    "if x<y and x<z:\n",
    "    print(\"Το x είναι το μικρότερο\")\n",
    "elif y<z:\n",
    "    print(\"Το y είναι το μικρότερο\")\n",
    "else:\n",
    "    print(\"Το z είναι το μικρότερο\")"
   ]
  },
  {
   "cell_type": "code",
   "execution_count": null,
   "metadata": {},
   "outputs": [],
   "source": [
    "# Εύρεση του τετραγώνου ενός φυσικού αριθμού\n",
    "x = 3\n",
    "ans = 0\n",
    "itersLeft = x\n",
    "while itersLeft != 0:\n",
    "    print(ans, \" \", itersLeft)\n",
    "    ans = ans + x\n",
    "    itersLeft = itersLeft - 1\n",
    "print(str(x), \"*\", str(x), \"=\", ans)"
   ]
  },
  {
   "cell_type": "code",
   "execution_count": null,
   "metadata": {},
   "outputs": [],
   "source": [
    "movie_types = ['comedy', 'horror', 'adventure', \n",
    "              'sci-fi']\n",
    "print('horror' in movie_types)\n",
    "print('action' in movie_types)"
   ]
  },
  {
   "cell_type": "code",
   "execution_count": null,
   "metadata": {},
   "outputs": [],
   "source": [
    "languages = [\"C\", \"C++\", \"Java\", \"Python\"]\n",
    "for x in languages:\n",
    "    print(x)"
   ]
  },
  {
   "cell_type": "code",
   "execution_count": null,
   "metadata": {},
   "outputs": [],
   "source": [
    "for i in range(5):\n",
    "    print(i**2)"
   ]
  },
  {
   "cell_type": "code",
   "execution_count": null,
   "metadata": {},
   "outputs": [],
   "source": [
    "for i in range(2, 5):\n",
    "    print(i**2)"
   ]
  },
  {
   "cell_type": "code",
   "execution_count": null,
   "metadata": {},
   "outputs": [],
   "source": [
    "for i in range(1, 10, 2):\n",
    "    print(i**2)"
   ]
  },
  {
   "cell_type": "code",
   "execution_count": null,
   "metadata": {},
   "outputs": [],
   "source": [
    "for i in range(4, 1, -1):\n",
    "    print(i**2)"
   ]
  },
  {
   "cell_type": "code",
   "execution_count": null,
   "metadata": {},
   "outputs": [],
   "source": [
    "def quad_formula(a, b, c):\n",
    "    D = b**2 - 4*a*c\n",
    "    r1 = (-b + D**0.5)/(2*a)\n",
    "    r2 = (-b - D**0.5)/(2*a)\n",
    "    return(r1, r2)"
   ]
  },
  {
   "cell_type": "code",
   "execution_count": null,
   "metadata": {},
   "outputs": [],
   "source": [
    "r1, r2 = quad_formula(1, -6, 9)\n",
    "print(r1)\n",
    "print(r2)"
   ]
  },
  {
   "cell_type": "code",
   "execution_count": null,
   "metadata": {},
   "outputs": [],
   "source": [
    "r1, r2 = quad_formula(c=9, b=-6, a=1)\n",
    "print(r1)\n",
    "print(r2)"
   ]
  }
 ],
 "metadata": {
  "kernelspec": {
   "display_name": "Python 2",
   "language": "python",
   "name": "python2"
  },
  "language_info": {
   "codemirror_mode": {
    "name": "ipython",
    "version": 2
   },
   "file_extension": ".py",
   "mimetype": "text/x-python",
   "name": "python",
   "nbconvert_exporter": "python",
   "pygments_lexer": "ipython2",
   "version": "2.7.15"
  }
 },
 "nbformat": 4,
 "nbformat_minor": 2
}
