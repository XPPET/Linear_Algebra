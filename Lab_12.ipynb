{
 "cells": [
  {
   "cell_type": "markdown",
   "metadata": {},
   "source": [
    "# LU Decomposition"
   ]
  },
  {
   "cell_type": "markdown",
   "metadata": {},
   "source": [
    "Παραγοντοποίηση $LU$. $A=PLU$, όπου $P$ ένας πίνακας μετάθεσης (permutation matrix), o $L$ είναι τριγωνικός κάτω\n",
    "και ο $U$ είναι τριγωνικός άνω.\n",
    "Για μη ιδιάζοντα πίνακα και μη μηδενικούς 'οδηγούς' ο πίνακας μετάθεσης είναι\n",
    "ο μοναδιαίος."
   ]
  },
  {
   "cell_type": "code",
   "execution_count": null,
   "metadata": {},
   "outputs": [],
   "source": [
    "A = matrix(ZZ, [[ 1,  0,  2,  0, -2, -1],\n",
    "                [ 3, -2,  3, -1,  0,  6],\n",
    "                [-4,  2, -3,  1, -1, -8],\n",
    "                [-2,  2, -3,  2,  1,  0],\n",
    "                [ 0, -1, -1,  0,  2,  5],\n",
    "                [-1,  2, -4, -1,  5, -3]])\n",
    "show(A)"
   ]
  },
  {
   "cell_type": "code",
   "execution_count": null,
   "metadata": {},
   "outputs": [],
   "source": [
    "P, L, U = A.LU(pivot='nonzero')"
   ]
  },
  {
   "cell_type": "code",
   "execution_count": null,
   "metadata": {},
   "outputs": [],
   "source": [
    "show(P)"
   ]
  },
  {
   "cell_type": "code",
   "execution_count": null,
   "metadata": {},
   "outputs": [],
   "source": [
    "show(L)"
   ]
  },
  {
   "cell_type": "code",
   "execution_count": null,
   "metadata": {},
   "outputs": [],
   "source": [
    "show(U)"
   ]
  },
  {
   "cell_type": "markdown",
   "metadata": {},
   "source": [
    "# QR Decomposition\n"
   ]
  },
  {
   "cell_type": "markdown",
   "metadata": {},
   "source": [
    "Παραγοντοποίηση QR. Για τον πίνακα Α βρίσκουμε πίνακες Q και R\n",
    "όπου A = QR όπου ο Q είναι ορθογώνιος ($Q^T Q=I$) και ο R είναι\n",
    "τριγωνικός άνω. (To σύνολο RDF περιλαμβάνει πραγματικούς αριθμούς\n",
    "διπλής ακρίβειας)."
   ]
  },
  {
   "cell_type": "code",
   "execution_count": null,
   "metadata": {},
   "outputs": [],
   "source": [
    "A = matrix(RDF, [[ 1,  0,  2,  0, -2, -1],\n",
    "                 [ 3, -2,  3, -1,  0,  6],\n",
    "                 [-4,  2, -3,  1, -1, -8],\n",
    "                 [-2,  2, -3,  2,  1,  0],\n",
    "                 [ 0, -1, -1,  0,  2,  5],\n",
    "                 [-1,  2, -4, -1,  5, -3]])\n",
    "show(A)"
   ]
  },
  {
   "cell_type": "code",
   "execution_count": null,
   "metadata": {},
   "outputs": [],
   "source": [
    "Q, R = A.QR()"
   ]
  },
  {
   "cell_type": "code",
   "execution_count": null,
   "metadata": {},
   "outputs": [],
   "source": [
    "show(Q)"
   ]
  },
  {
   "cell_type": "code",
   "execution_count": null,
   "metadata": {},
   "outputs": [],
   "source": [
    "show( Q.transpose() * Q )"
   ]
  },
  {
   "cell_type": "code",
   "execution_count": null,
   "metadata": {},
   "outputs": [],
   "source": [
    "show(R)"
   ]
  },
  {
   "cell_type": "markdown",
   "metadata": {},
   "source": [
    "# Matrix Diagonalization"
   ]
  },
  {
   "cell_type": "code",
   "execution_count": null,
   "metadata": {},
   "outputs": [],
   "source": [
    "A = matrix(ZZ, 2, 2, [2, 1, 4, -1])\n",
    "show(A)"
   ]
  },
  {
   "cell_type": "code",
   "execution_count": null,
   "metadata": {},
   "outputs": [],
   "source": [
    "D, P = A.eigenmatrix_right()\n",
    "print(\"Diagonal matrix D = \")\n",
    "show(D)\n",
    "print(\"Invertible matrix P = \")\n",
    "show(P)"
   ]
  },
  {
   "cell_type": "code",
   "execution_count": null,
   "metadata": {},
   "outputs": [],
   "source": [
    "A*P == P*D"
   ]
  },
  {
   "cell_type": "code",
   "execution_count": null,
   "metadata": {},
   "outputs": [],
   "source": [
    "A == P*D*P.inverse()"
   ]
  },
  {
   "cell_type": "markdown",
   "metadata": {},
   "source": [
    "# Επαναληπτικές Ασκήσεις"
   ]
  },
  {
   "cell_type": "markdown",
   "metadata": {},
   "source": [
    "### 1η Άσκηση\n",
    "Να βρεθεί ο πίνακας $X$ για τον οποίο ισχύει η εξίσωση με πίνακες:\n",
    "\n",
    "$$\n",
    "2 \\left[\n",
    "    \\begin{array}{cc}\n",
    "    -1 &  2  \\\\\n",
    "    5  & -7  \\\\\n",
    "    0  &  1  \\\\\n",
    "    \\end{array} \\right]\n",
    "    -3 X = 5 \\left[\n",
    "    \\begin{array}{cc}\n",
    "    3  & 1  \\\\\n",
    "    -2 & 0  \\\\\n",
    "    4  & -1 \\\\\n",
    "    \\end{array} \\right]\n",
    "$$\n",
    "\n",
    "Το SageMath δε μπορεί (ακόμη) να λύσει εξισώσεις με άγνωστους πίνακες απευθείας. Ωστόσο, μπορούμε να ακολουθήσουμε τα εξής βήματα για να βρούμε τον $X$.\n",
    "\n",
    "Ο πίνακας $X$ είναι ένας άγνωστος 3$\\times$2 πίνακας. Επομένως, όλα τα στοιχεία του θα είναι άγνωστες μεταβλητές των οποίων τις τιμές θέλουμε να βρούμε.\n",
    "\n",
    "$$\n",
    "X = \\left[\n",
    "    \\begin{array}{cc}\n",
    "    x_1 &  x_2  \\\\\n",
    "    x_3  & x_4  \\\\\n",
    "    x_5  &  x_6  \\\\\n",
    "    \\end{array} \\right]\n",
    "$$\n",
    "\n",
    "Άρα για να δημιουργήσουμε τον πίνακα $X$, θα πρέπει πρώτα να δηλώσουμε τις 3$\\cdot$2=6 μεταβλητές που απαρτίζουν τα στοιχεία του. Αυτό γίνεται με την εντολή:\n",
    "`my_vars = var(\"x1, x2, x3, x4, x5, x6\")`\n",
    "\n",
    "Επομένως, ο πίνακας $X$ θα δημιουργηθεί με την εντολή: `X = matrix(SR, 3, 2, my_vars)`.\n",
    "\n",
    "Δημιουργούμε δυο μεταβλητές `LHS` και `RHS` για τα δυο μέλη της εξίσωσης πινάκων και μια μεταβλητή `EQ` ως τη διαφορά τους. Άρα η εξίσωση πινάκων μπορεί να γραφεί και ως $EQ=0$. Ο `EQ` είναι ένας συμβολικός πίνακας του οποίου τα στοιχεία είναι συμβολικές παραστάσεις. Μπορούμε να πάρουμε τα στοιχεία του υπό μορφή λίστας με την εντολή: `EQ.list()` (ξεδίπλωμα πίνακα)."
   ]
  },
  {
   "cell_type": "code",
   "execution_count": null,
   "metadata": {},
   "outputs": [],
   "source": [
    "A = matrix(ZZ, 3, 2, [-1, 2, 5, -7, 0, 1])\n",
    "B = matrix(ZZ, 3, 2, [3, 1, -2, 0, 4, -1])\n",
    "\n",
    "my_vars = var(\"x1, x2, x3, x4, x5, x6\")\n",
    "X = matrix(SR, 3, 2, my_vars)\n",
    "\n",
    "LHS = 2*A - 3*X\n",
    "RHS = 5*B\n",
    "EQ = LHS - RHS\n",
    "\n",
    "print( \"Ο συμβολικός πίνακας EQ είναι η λίστα:\" )\n",
    "show(EQ)\n",
    "print( \"Το ξεδίπλωμα του πίνακα EQ είναι:\" )\n",
    "print( EQ.list() )\n",
    "print( \"Από την παραπάνω λίστα δημιουργούμε την επόμενη λίστα εξισώσεων:\" )\n",
    "print( [eq==0 for eq in EQ.list()] )"
   ]
  },
  {
   "cell_type": "markdown",
   "metadata": {},
   "source": [
    "Πλέον, μπορούμε να χρησιμοποιήσουμε τη συνάρτηση `solve` για να επιλύσουμε απευθείας το σύστημα των εξισώσεων ως προς τις μεταβλητές-στοιχεία του $X$ με την εντολή `solution = solve([eq==0 for eq in EQ.list()], my_vars)`. Η μεταβλητή `solution` θα περιέχει μια ακολουθία με συμβολικές εξισώσεις λυμένες ως προς τις μεταβλητές μας. Για να τις αντικαταστήσουμε στον πίνακα $X$, χρησιμοποιούμε τη μέθοδο `substitute` και περνώντας της ως παράμετρο αυτή την ακολουθία. Αυτό γίνεται με την εντολή `X.substitute(solution)`. Το SageMath θα εμφανίσει τον πίνακα $X$ που αποτελεί τη λύση της εξίσωσης πινάκων. Συνοψίζοντας, έχουμε το ακόλουθο σενάριο του SageMath:"
   ]
  },
  {
   "cell_type": "code",
   "execution_count": null,
   "metadata": {},
   "outputs": [],
   "source": [
    "A = matrix(ZZ, 3, 2, [-1, 2, 5, -7, 0, 1])\n",
    "B = matrix(ZZ, 3, 2, [3, 1, -2, 0, 4, -1])\n",
    "\n",
    "my_vars = var(\"x1, x2, x3, x4, x5, x6\")\n",
    "X = matrix(SR, 3, 2, my_vars)\n",
    "\n",
    "LHS = 2*A - 3*X\n",
    "RHS = 5*B\n",
    "EQ = LHS - RHS\n",
    "\n",
    "solution = solve([eq==0 for eq in EQ.list()], my_vars)\n",
    "print(solution)\n",
    "print(X)\n",
    "show(X.substitute(solution))"
   ]
  },
  {
   "cell_type": "markdown",
   "metadata": {},
   "source": [
    "### 2η Άσκηση \n",
    "Αν\n",
    "$$\n",
    "A = \\left[\n",
    "\\begin{array}{ccc}\n",
    "-1 & 0  & 2 \\\\\n",
    " 3 & -5 & 1 \\\\\n",
    "\\end{array} \\right], \\quad\n",
    "B = \\left[\n",
    "\\begin{array}{ccc}\n",
    "2 & \\frac{1}{4} & -\\frac{3}{4} \\\\\n",
    "0 & -1 & 1 \\\\\n",
    "\\end{array} \\right]\n",
    "$$\n",
    "\n",
    "να λύσετε την εξίσωση πινάκων:\n",
    "$$3 (X+B) = 2 (\\frac{1}{2} X + A) -5B $$\n",
    "\n",
    "Για τη λύση της άσκησης εργαζόμαστε με τρόπο ανάλογο με αυτόν της προηγούμενης άσκησης."
   ]
  },
  {
   "cell_type": "code",
   "execution_count": null,
   "metadata": {},
   "outputs": [],
   "source": [
    "# Η λύση είναι παρόμοια με αυτή της προηγούμενης άσκησης.\n",
    "# Προσπαθήστε να εξηγήσετε τα βήματα του σεναρίου ένα-ένα.\n",
    "A = matrix(ZZ, 2, 3, [-1, 0, 2, 3, -5, 1])\n",
    "B = matrix(QQ, 2, 3, [2, 1/4, -3/4, 0, -1, 1])\n",
    "\n",
    "# Δημιουργούμε μια λίστα με τις μεταβλητές μας\n",
    "my_vars = [var(\"x\" + str(i)) for i in range(1, 7)] # ή var('x, y, z, u, v, w')\n",
    "\n",
    "# και τις χρησιμοποιούμε για να κατασκευάσουμε έναν συμβολικό πίνακα.\n",
    "X = matrix(SR, 2, 3, my_vars)\n",
    "\n",
    "LHS = 3*(X+B)\n",
    "RHS = 2*(1/2*X+A)-5*B\n",
    "EQ = LHS - RHS\n",
    "\n",
    "solution = solve([eq==0 for eq in EQ.list()], my_vars)\n",
    "\n",
    "show(X.substitute(solution))"
   ]
  },
  {
   "cell_type": "markdown",
   "metadata": {},
   "source": [
    "### 3η Άσκηση\n",
    "Αν\n",
    "\n",
    "$$\n",
    "X = \\left[\n",
    "\\begin{array}{cc}\n",
    "a & b \\\\\n",
    "c & d \\\\\n",
    "\\end{array} \\right] \\quad και \\quad\n",
    "Y = \\left[\n",
    "\\begin{array}{cc}\n",
    "-a & 2b \\\\\n",
    "-c & 3d \\\\\n",
    "\\end{array} \\right]\n",
    "$$\n",
    "\n",
    "να βρείτε τις τιμές των πραγματικών αριθμών $a, b, c$ και $d$ για τους οποίους ισχύει:\n",
    "\n",
    "$$\n",
    "2X - 5Y=\\left[\n",
    "\\begin{array}{cc}\n",
    "14 & -8 \\\\\n",
    "21 & 13 \\\\\n",
    "\\end{array} \\right]\n",
    "$$"
   ]
  },
  {
   "cell_type": "markdown",
   "metadata": {},
   "source": [
    "Παρατηρούμε πως οι πίνακες $X$ και $Y$ περιέχουν συμβολικές παραστάσεις ως προς τις συμβολικές μεταβλητές $a, b, c, d$. Επομένως, το πρώτο βήμα είναι να τις δηλώσουμε με την εντολή `var(\"a, b, c, d\")`."
   ]
  },
  {
   "cell_type": "markdown",
   "metadata": {},
   "source": [
    "Στη συνέχεια δημιουργούμε τους 2 πίνακες με τις εντολές: `X = matrix(SR, 2, 2, [a, b, c, d])` και `Y = matrix(SR, 2, 2, [-a, 2*b, -c, 3*d])` αντίστοιχα. Στη συνέχεια δημιουργούμε δυο μεταβλητές `LHS` και `RHS` για το αριστερό και το δεξιό μέλος της εξίσωσης πινάκων. Επίσης, δημιουργούμε μια μεταβλητή `EQ` που θα περιέχει το συμβολικό πίνακα που προκύπτει από τη διαφορά των 2 μελών, δηλ: `EQ = LHS - RHS`. Για να κατασκευάσουμε το σύστημα εξισώσεων που θέλουμε να λύσουμε, ξεδιπλώνουμε τον πίνακα `EQ` σε λίστα και δημιουργούμε τις εξισώσεις πατώντας πάνω στα στοιχεία της μέσω της συμπερίληψης σε λίστα `[eq == 0 for eq in EQ.list()]` (η λίστα των εξισώσεων `eq == 0` για όλα τα στοιχεία-παραστάσεις της λίστας `EQ.list()`)"
   ]
  },
  {
   "cell_type": "markdown",
   "metadata": {},
   "source": [
    "<b>Σημείωση:</b> Μπορούμε να ζητήσουμε από το SageMath να εντοπίσει αυτόματα τις συμβολικές μεταβλητές που εμφανίζονται στα στοιχεία ενός πίνακα με τη μέθοδο variables(). Έτσι, για να βρούμε τις συμβολικές μεταβλητές του πίνακα `EQ`, θα γράψουμε `EQ.variables()`."
   ]
  },
  {
   "cell_type": "code",
   "execution_count": null,
   "metadata": {},
   "outputs": [],
   "source": [
    "var(\"a, b, c, d\")\n",
    "\n",
    "X = matrix(SR, 2, 2, [a, b, c, d])\n",
    "Y = matrix(SR, 2, 2, [-a, 2*b, -c, 3*d])\n",
    "\n",
    "LHS = 2*X - 5*Y\n",
    "RHS = matrix(ZZ, 2, 2, [14, -8, 21, 13])\n",
    "EQ = LHS - RHS\n",
    "\n",
    "solution = solve([eq == 0 for eq in EQ.list()], EQ.variables())\n",
    "\n",
    "print( \"Η λύση της εξίσωσης πινάκων είναι: \", solution )"
   ]
  },
  {
   "cell_type": "markdown",
   "metadata": {},
   "source": [
    "### 4η Άσκηση\n",
    "Να βρείτε πίνακες $X, Y$ για τους οποίους ισχύει:\n",
    "\n",
    "$$\n",
    "3X + Y = \\left[\n",
    "\\begin{array}{cc}\n",
    "3 & 0 \\\\\n",
    "0 & 3 \\\\\n",
    "\\end{array} \\right] \\quad και \\quad\n",
    "5X + 2Y = \\left[\n",
    "\\begin{array}{cc}\n",
    "4 & 0 \\\\\n",
    "0 & 4 \\\\\n",
    "\\end{array} \\right]\n",
    "$$"
   ]
  },
  {
   "cell_type": "markdown",
   "metadata": {},
   "source": [
    "Οι πίνακες $X$ και $Y$ θα είναι $2 \\times 2$ συμβολικοί πίνακες. Έστω:\n",
    "\n",
    "$$\n",
    "X = \\left[\n",
    "\\begin{array}{cc}\n",
    "x1 & x2 \\\\\n",
    "x3 & x4 \\\\\n",
    "\\end{array} \\right] \\quad και \\quad\n",
    "Y = \\left[\n",
    "\\begin{array}{cc}\n",
    "y1 & y2 \\\\\n",
    "y3 & y4 \\\\\n",
    "\\end{array} \\right]\n",
    "$$\n",
    "\n",
    "Μπορούμε να δηλώσουμε τις συμβολικές μεταβλητές που αποτελούν τα στοιχεία τους είτε ένα προς ένα:"
   ]
  },
  {
   "cell_type": "code",
   "execution_count": null,
   "metadata": {},
   "outputs": [],
   "source": [
    "var(\"x1, x2, x3, x4\")"
   ]
  },
  {
   "cell_type": "markdown",
   "metadata": {},
   "source": [
    "Παρατηρήστε πως αυτή τη φορά θέλουμε να ικανοποιούνται 2 σχέσεις ανάμεσα στους πίνακες $X$ και $Y$. Η φιλοσοφία είναι η ίδια με τις προηγούμενες ασκήσεις αν σκεφτούμε ότι από την κάθε σχέση εξάγουμε ένα σύστημα από εξισώσεις. Έτσι, η πρώτη σχέση θα μας δώσει 4 εξισώσεις (σε μια λίστα `EQ1.list()`) και η δεύτερη σχέση, τέσσερις ακόμη (σε μια δεύτερη λίστα `EQ2.list()`). Άρα αν συνενώσουμε τις 2 αυτές λίστες, θα έχουμε μια λίστα με 8 εξισώσεις που θα είναι το σύστημα που θέλουμε να λύσουμε. Αυτό θα γίνει με την εντολή `EQ1.list()+EQ2.list()`. Επιπλέον, για να εντοπίσουμε ποιές συμβολικές μεταβλητές εμφανίζονται στον πίνακα `EQ1` <b>ή</b> στον πίνακα `EQ2`, θα πρέπει να συνενώσουμε τις λίστες των συμβολικών μεταβλητών του καθενός. Αυτό γίνεται με την εντολή `EQ1.variables()+EQ2.variables()`. Ο κώδικας συνοψίζεται στο επόμενο κελί:"
   ]
  },
  {
   "cell_type": "code",
   "execution_count": null,
   "metadata": {},
   "outputs": [],
   "source": [
    "X = matrix(SR, 2, 2, [var(\"x\" + str(i)) for i in range(1, 5)])\n",
    "Y = matrix(SR, 2, 2, [var(\"y\" + str(i)) for i in range(1, 5)])\n",
    "\n",
    "LHS1 = 3*X + Y\n",
    "RHS1 = matrix(ZZ, 2, 2, [3, 0, 0, 3])\n",
    "EQ1 = LHS1 - RHS1\n",
    "\n",
    "LHS2 = 5*X + 2*Y\n",
    "RHS2 = matrix(ZZ, 2, 2, [4, 0, 0, 4])\n",
    "EQ2 = LHS2 - RHS2\n",
    "\n",
    "solution = solve([eq==0 for eq in (EQ1.list()+EQ2.list())], (EQ1.variables()+EQ2.variables()))\n",
    "print( \"Η λύση της εξίσωσης πινάκων είναι: \", solution )"
   ]
  },
  {
   "cell_type": "markdown",
   "metadata": {},
   "source": [
    "### 5η Άσκηση\n",
    "Αν\n",
    "$$\n",
    "A = \\left[\n",
    "\\begin{array}{ccc}\n",
    "2 & 1 &  3 \\\\\n",
    "4 & -1 & 2 \\\\\n",
    "\\end{array} \\right], \\quad\n",
    "B = \\left[\n",
    "\\begin{array}{cc}\n",
    "1 & 3  \\\\\n",
    "2 & 0  \\\\\n",
    "1 & -2 \\\\\n",
    "\\end{array} \\right] \\quad και \\quad\n",
    "C = \\left[\n",
    "\\begin{array}{ccc}\n",
    "-3 & 1 & -1 & 1 \\\\\n",
    "2  & 5 & 4  & 0 \\\\\n",
    "0  & 2 & 1  & 2\n",
    "\\end{array} \\right]\n",
    "$$\n",
    "\n",
    "να βρεθούν τα γινόμενα AC, BA, AC και τα γινόμενα BC, CB και CA, εφόσον ορίζονται με χρήση του SageMath."
   ]
  },
  {
   "cell_type": "code",
   "execution_count": null,
   "metadata": {},
   "outputs": [],
   "source": [
    "A = matrix(ZZ, 2, 3, [2, 1, 3, 4, -1, 2])\n",
    "B = matrix(ZZ, 3, 2, [1, 3, 2, 0, 1, -2])\n",
    "C = matrix(ZZ, 3, 4, [-3, 1, -1, 1, 2, 5, 4, 0, 0, 2, 1, 2])\n",
    "\n",
    "print( \"Το γινόμενο A*B είναι:\" )\n",
    "show(A*B)\n",
    "print( \"Το γινόμενο A*C είναι:\" )\n",
    "show(A*C)\n",
    "print( \"Το γινόμενο B*A είναι:\" )\n",
    "show(B*A)\n",
    "# Για τα γινόμενα C*A, B*C και C*B θα πάρουμε σφάλμα, αφού αυτά δεν ορίζονται."
   ]
  },
  {
   "cell_type": "markdown",
   "metadata": {},
   "source": [
    "### 6η Άσκηση\n",
    "Αν\n",
    "$$\n",
    "A = \\left[\n",
    "\\begin{array}{cc}\n",
    "1 & 2 \\\\\n",
    "2 & 4 \\\\\n",
    "\\end{array} \\right]\n",
    "$$\n",
    "τότε:\n",
    "<ol>\n",
    "    <li>Να βρείτε τις τιμές των $x, y \\in \\mathbb{R}$ για τις οποίες ισχύει:\n",
    "        $$A^2 = xA+yI$$\n",
    "    </li>\n",
    "    <li>Να υπολογίσετε τους πίνακες $A^3$ και $A^4$.\n",
    "    </li>\n",
    "</ol>"
   ]
  },
  {
   "cell_type": "code",
   "execution_count": null,
   "metadata": {},
   "outputs": [],
   "source": [
    "# Ζήτημα 1ο\n",
    "A = matrix(ZZ, 2, 2, [1, 2, 2, 4])\n",
    "I = identity_matrix(ZZ, 2)\n",
    "var(\"x, y\")\n",
    "\n",
    "LHS = A^2\n",
    "RHS = x*A + y*I\n",
    "EQ = LHS - RHS\n",
    "\n",
    "solution = solve([eq==0 for eq in EQ.list()], EQ.variables())\n",
    "print( \"Οι τιμές των x και y είναι:\", solution )"
   ]
  },
  {
   "cell_type": "code",
   "execution_count": null,
   "metadata": {},
   "outputs": [],
   "source": [
    "# Ζήτημα 2ο\n",
    "A = matrix(ZZ, 2, 2, [1, 2, 2, 4])\n",
    "\n",
    "print( \"Ο πίνακας A^3 είναι:\" )\n",
    "show(A^3)\n",
    "\n",
    "print( \"Ο πίνακας A^4 είναι:\" )\n",
    "show(A**4)"
   ]
  },
  {
   "cell_type": "markdown",
   "metadata": {},
   "source": [
    "### 7η Άσκηση\n",
    "Αν\n",
    "\n",
    "$$\n",
    "A(x) = \\left[\n",
    "    \\begin{array}{ccc}\n",
    "    1 &  x & x^2  \\\\\n",
    "    0 &  1 & 2x   \\\\\n",
    "    0 & 0  & 1\n",
    "    \\end{array} \\right]\n",
    "$$\n",
    "\n",
    "<ol>\n",
    "    <li>Νδο: $A(x)A(y) = A(x + y)$.</li>\n",
    "    <li>Να βρείτε τη σχέση μεταξύ των $x, y$ ώστε ο πίνακας $A(y)$ να είναι αντίστροφος του $A(x)$.</li>\n",
    "    <li>Να βρείτε τον αντίστροφο του πίνακα $M = \\left[\n",
    "    \\begin{array}{ccc}\n",
    "    1 &  1 & 1  \\\\\n",
    "    0 &  1 & 2  \\\\\n",
    "    0 & 0  & 1\n",
    "    \\end{array} \\right]$.</li>\n",
    "</ol>\n",
    "\n",
    "<b><u>Λύση:</u></b>"
   ]
  },
  {
   "cell_type": "markdown",
   "metadata": {},
   "source": [
    "*Ζήτημα 1ο*"
   ]
  },
  {
   "cell_type": "code",
   "execution_count": null,
   "metadata": {},
   "outputs": [],
   "source": [
    "var('x, y')\n",
    "A = matrix(SR, 3, 3, [1, x, x^2, 0, 1, 2*x, 0, 0, 1])\n",
    "B = A.substitute(x == y)\n",
    "C = A.substitute(x == x+y)\n",
    "\n",
    "show(A * B)\n",
    "show(C)\n",
    "#show(C.expand())   # αν θέλουμε το SageMath να υπολογίσει τα αναπτύγματα των στοιχείων του πίνακα.\n",
    "\n",
    "print( A*B == C.expand() )  # H expand εφαρμόζει την ταυτότητα (x+y)^2=x^2+2*x*y+y^2 στο στοιχείο C[0, 2]."
   ]
  },
  {
   "cell_type": "markdown",
   "metadata": {},
   "source": [
    "*Ζήτημα 2ο*"
   ]
  },
  {
   "cell_type": "markdown",
   "metadata": {},
   "source": [
    "Για να είναι οι πίνακες $A(x)$ και $A(y)$ αντίστροφοι, θα πρέπει να ισχύουν οι ισότητες:\n",
    "\n",
    "$$ A(x)A(y) = I_3 = A(y)A(x)$$\n",
    "\n",
    "ή λόγω του 1ου ζητήματος: $$A(x+y) = I_3 = A(y+x)$$\n",
    "ή απλούστερα: $$A(x+y) = I_3$$\n",
    "δηλαδή:\n",
    "\n",
    "$$ \\left[\n",
    "    \\begin{array}{ccc}\n",
    "    1 &  x+y & (x+y)^2  \\\\\n",
    "    0 &  1 & 2(x+y)   \\\\\n",
    "    0 & 0  & 1\n",
    "    \\end{array} \\right] = \\left[\n",
    "    \\begin{array}{ccc}\n",
    "    1 &  0  & 0  \\\\\n",
    "    0 &  1  & 0   \\\\\n",
    "    0 &  0  & 1\n",
    "    \\end{array} \\right]\n",
    "$$\n",
    "\n",
    "απ' όπου συνάγουμε πως πρέπει να ισχύουν οι σχέσεις:\n",
    "\n",
    "$$ \\left\\{ \\begin{array}{c}\n",
    "            x + y = 0 \\\\\n",
    "            (x+y)^2 = 0 \\\\\n",
    "            2(x+y) = 0\n",
    "            \\end{array} \\right.\n",
    "$$\n",
    "το παραπάνω είναι ισοδύναμο με τη σχέση: $x + y = 0$ και άρα πρέπει: $y = -x$."
   ]
  },
  {
   "cell_type": "markdown",
   "metadata": {},
   "source": [
    "*Ζήτημα 3ο*"
   ]
  },
  {
   "cell_type": "markdown",
   "metadata": {},
   "source": [
    "Παρατηρούμε ότι ο $M$ προκύπτει από τον $A$ για $x = 1$, δήλ.: $M = A(1)$.\n",
    "\n",
    "Άρα από το ζήτημα 2 έχουμε ότι:\n",
    "$$\n",
    "M^{-1} = A(1)^{-1} = A(-1) = \\left[ \\begin{array}{cccc}\n",
    "                                1 & -1 & 1 \\\\\n",
    "                                0 & 1 & -2 \\\\\n",
    "                                0 & 0 & 1\n",
    "                                \\end{array} \\right]\n",
    "$$"
   ]
  },
  {
   "cell_type": "code",
   "execution_count": null,
   "metadata": {},
   "outputs": [],
   "source": [
    "# Επαλήθευση με το SageMath\n",
    "M = A.substitute(x == 1)\n",
    "show(M.inverse())"
   ]
  },
  {
   "cell_type": "markdown",
   "metadata": {},
   "source": [
    "### 8η Άσκηση\n",
    "<b>Άσκηση 24:</b> Σε καθεμιά από τις παρακάτω περιπτώσεις να αποδείξετε με τη χρήση του SageMath ότι ο πίνακας $B$ είναι αντίστροφος του $A$.\n",
    "\n",
    "<ol>\n",
    "    <li>$A = \\left[\n",
    "    \\begin{array}{cc}\n",
    "    2 &  3   \\\\\n",
    "    1 &  2\n",
    "    \\end{array} \\right]$, $\\quad B = \\left[\n",
    "    \\begin{array}{cc}\n",
    "    2  &  -3   \\\\\n",
    "    -1 &  2\n",
    "    \\end{array} \\right]$</li>\n",
    "    <li>$A = \\left[\n",
    "    \\begin{array}{ccc}\n",
    "    1 &  3 & -2  \\\\\n",
    "    2 &  5 & -3  \\\\\n",
    "    -3 & 2  & -4\n",
    "    \\end{array} \\right]$, $\\quad B = \\left[\n",
    "    \\begin{array}{ccc}\n",
    "    14  &  -8  & -1  \\\\\n",
    "    -17 &  10  & 1   \\\\\n",
    "    -19 &  11  & 1\n",
    "    \\end{array} \\right]$.</li>\n",
    "</ol>\n",
    "\n",
    "<b><u>Λύση:</u></b>"
   ]
  },
  {
   "cell_type": "code",
   "execution_count": null,
   "metadata": {},
   "outputs": [],
   "source": [
    "#Ζήτημα 1ο\n",
    "A = matrix(ZZ, 2, 2, [2, 3, 1, 2])\n",
    "B = matrix(ZZ, 2, 2, [2, -3, -1, 2])\n",
    "\n",
    "print( A*B == B*A == identity_matrix(2) )"
   ]
  },
  {
   "cell_type": "code",
   "execution_count": null,
   "metadata": {},
   "outputs": [],
   "source": [
    "#Ζήτημα 2ο\n",
    "A = matrix(ZZ, 3, 3, [1, 3, -2, 2, 5, -3, -3, 2, -4])\n",
    "B = matrix(ZZ, 3, 3, [14, -8, -1, -17, 10, 1, -19, 11, 1])\n",
    "\n",
    "print( A*B == B*A == identity_matrix(3) )"
   ]
  },
  {
   "cell_type": "markdown",
   "metadata": {},
   "source": [
    "### 9η Άσκηση\n",
    " Να βρείτε τον αντίστροφο του πίνακα:\n",
    "\n",
    "$$\n",
    "A = \\left[\n",
    "    \\begin{array}{ccc}\n",
    "    0 &  1 & 2  \\\\\n",
    "    1 &  0 & 3  \\\\\n",
    "    4 & -3 & 8\n",
    "    \\end{array} \\right]\n",
    "$$\n",
    "\n",
    "<b><u>Λύση:</u></b>"
   ]
  },
  {
   "cell_type": "code",
   "execution_count": null,
   "metadata": {},
   "outputs": [],
   "source": [
    "A = matrix(ZZ, 3, 3, [0, 1, 2, 1, 0, 3, 4, -3, 8])\n",
    "A.inverse()"
   ]
  }
 ],
 "metadata": {
  "kernelspec": {
   "display_name": "SageMath 9.5",
   "language": "sage",
   "name": "sagemath"
  },
  "language_info": {
   "codemirror_mode": {
    "name": "ipython",
    "version": 3
   },
   "file_extension": ".py",
   "mimetype": "text/x-python",
   "name": "python",
   "nbconvert_exporter": "python",
   "pygments_lexer": "ipython3",
   "version": "3.10.12"
  }
 },
 "nbformat": 4,
 "nbformat_minor": 2
}
